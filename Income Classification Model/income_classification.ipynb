{
 "cells": [
  {
   "cell_type": "markdown",
   "metadata": {},
   "source": [
    "* Importing Libraries"
   ]
  },
  {
   "cell_type": "code",
   "execution_count": 1,
   "metadata": {},
   "outputs": [],
   "source": [
    "import numpy as np\n",
    "import pandas as pd\n",
    "import seaborn as sns\n",
    "import matplotlib.pyplot as plt"
   ]
  },
  {
   "cell_type": "markdown",
   "metadata": {},
   "source": [
    "# Evaluating Test Dataset"
   ]
  },
  {
   "cell_type": "code",
   "execution_count": 2,
   "metadata": {},
   "outputs": [],
   "source": [
    "pd.set_option('display.max_rows', None)\n",
    "census_eval = pd.read_csv('https://raw.githubusercontent.com/dphi-official/Datasets/master/Census_Income/Testing_set_census.csv')"
   ]
  },
  {
   "cell_type": "code",
   "execution_count": 3,
   "metadata": {},
   "outputs": [],
   "source": [
    "census_eval.drop(labels = ['migration_msa','migration_reg','migration_within_reg','migration_sunbelt'], inplace = True, axis = 1)"
   ]
  },
  {
   "cell_type": "code",
   "execution_count": 4,
   "metadata": {},
   "outputs": [],
   "source": [
    "cat_col = ['class_of_worker','industry_code','occupation_code','education','enrolled_in_edu_inst_lastwk','marital_status','major_industry_code',\n",
    "           'major_occupation_code','race','hispanic_origin','sex','member_of_labor_union','reason_for_unemployment',\n",
    "          'full_parttime_employment_stat','tax_filer_status','region_of_previous_residence','state_of_previous_residence',\n",
    "          'd_household_family_stat','d_household_summary','live_1_year_ago','num_person_Worked_employer','family_members_under_18','country_father',\n",
    "           'country_mother','country_self','citizenship','business_or_self_employed','veterans_benefits','weeks_worked_in_year','fill_questionnaire_veteran_admin','year','income_level']"
   ]
  },
  {
   "cell_type": "code",
   "execution_count": 5,
   "metadata": {},
   "outputs": [],
   "source": [
    "census_eval['country_mother'].replace(to_replace = np.nan, value = 'United-States', inplace = True)\n",
    "census_eval['country_mother'].replace(to_replace = \"?\", value = 'United-States', inplace = True)\n",
    "census_eval['country_mother'].replace(to_replace = \" ?\", value = 'United-States', inplace = True)"
   ]
  },
  {
   "cell_type": "code",
   "execution_count": 6,
   "metadata": {},
   "outputs": [],
   "source": [
    "census_eval['country_father'].replace(to_replace = np.nan, value = 'United-States', inplace = True)\n",
    "census_eval['country_father'].replace(to_replace = \"?\", value = 'United-States', inplace = True)\n",
    "census_eval['country_father'].replace(to_replace = \" ?\", value = 'United-States', inplace = True)"
   ]
  },
  {
   "cell_type": "code",
   "execution_count": 7,
   "metadata": {},
   "outputs": [],
   "source": [
    "census_eval['state_of_previous_residence'].replace(to_replace = np.nan, value = 'Not in universe', inplace = True)\n",
    "census_eval['state_of_previous_residence'].replace(to_replace = \"?\", value = 'Not in universe', inplace = True)\n",
    "census_eval['state_of_previous_residence'].replace(to_replace = str(\"?\"), value = 'Not in universe', inplace = True)\n",
    "census_eval['state_of_previous_residence'].replace(to_replace = str(\" ?\"), value = 'Not in universe', inplace = True)\n",
    "census_eval['state_of_previous_residence'].replace(to_replace = \" ?\", value = 'Not in universe', inplace = True)"
   ]
  },
  {
   "cell_type": "code",
   "execution_count": 8,
   "metadata": {},
   "outputs": [],
   "source": [
    "census_eval['hispanic_origin'].replace(to_replace = np.nan, value = 'All other', inplace = True)\n",
    "census_eval['hispanic_origin'].replace(to_replace = \"NA\", value = 'All other', inplace = True)\n",
    "census_eval['hispanic_origin'].replace(to_replace = \" NA\", value = 'All other', inplace = True)\n",
    "census_eval['hispanic_origin'].replace(to_replace = \" ?\", value = 'All other', inplace = True)\n",
    "census_eval['hispanic_origin'].replace(to_replace = \"?\", value = 'All other', inplace = True)"
   ]
  },
  {
   "cell_type": "code",
   "execution_count": 9,
   "metadata": {},
   "outputs": [],
   "source": [
    "census_eval['country_self'].replace(to_replace = np.nan, value = 'United-States', inplace = True)\n",
    "census_eval['country_self'].replace(to_replace = \"?\", value = 'United-States', inplace = True)\n",
    "census_eval['country_self'].replace(to_replace = str(\"?\"), value = 'United-States', inplace = True)\n",
    "census_eval['country_self'].replace(to_replace = \" ?\", value = 'United-States', inplace = True)"
   ]
  },
  {
   "cell_type": "code",
   "execution_count": 10,
   "metadata": {},
   "outputs": [],
   "source": [
    "#census_eval['d_household_family_stat'].replace(to_replace = \"Grandchild <18 ever marr not in subfamily\",                                                value = 'Householder', inplace = True)\n",
    "#census_eval['d_household_family_stat'].replace(to_replace = \"nan\", value = 'Householder', inplace = True)"
   ]
  },
  {
   "cell_type": "code",
   "execution_count": 11,
   "metadata": {},
   "outputs": [
    {
     "data": {
      "text/plain": [
       "Not in universe          30805\n",
       " Not in universe         15556\n",
       "California                 284\n",
       "Utah                       155\n",
       " California                150\n",
       "North Carolina             135\n",
       "Florida                    126\n",
       "Oklahoma                   103\n",
       "Abroad                     102\n",
       "Indiana                     87\n",
       "North Dakota                85\n",
       " Utah                       83\n",
       "Minnesota                   81\n",
       " Florida                    74\n",
       "New Mexico                  73\n",
       "Michigan                    72\n",
       " Indiana                    64\n",
       " North Carolina             63\n",
       " Minnesota                  58\n",
       " Abroad                     45\n",
       " North Dakota               42\n",
       "West Virginia               42\n",
       "Colorado                    41\n",
       "Arizona                     41\n",
       " Oklahoma                   39\n",
       "Wyoming                     39\n",
       " New Mexico                 38\n",
       "Montana                     37\n",
       "Alabama                     37\n",
       "Alaska                      37\n",
       "Louisiana                   36\n",
       "Tennessee                   36\n",
       "Oregon                      36\n",
       "Pennsylvania                35\n",
       "Kansas                      33\n",
       "Kentucky                    33\n",
       "Nebraska                    33\n",
       "Mississippi                 33\n",
       "Nevada                      32\n",
       "Arkansas                    32\n",
       " Michigan                   32\n",
       "New Hampshire               31\n",
       "Massachusetts               31\n",
       "Georgia                     31\n",
       "Texas                       31\n",
       "Missouri                    30\n",
       "Ohio                        30\n",
       "South Dakota                29\n",
       "Illinois                    29\n",
       "Vermont                     29\n",
       "Maryland                    27\n",
       "Maine                       27\n",
       "Virginia                    26\n",
       "Iowa                        24\n",
       " Georgia                    22\n",
       "New York                    22\n",
       " Ohio                       21\n",
       " Montana                    21\n",
       " Kentucky                   20\n",
       " Wyoming                    20\n",
       " Arizona                    19\n",
       " Vermont                    19\n",
       "Wisconsin                   19\n",
       " New York                   19\n",
       " Alabama                    19\n",
       " Massachusetts              18\n",
       " Texas                      18\n",
       " Louisiana                  18\n",
       " West Virginia              18\n",
       " Alaska                     17\n",
       " Oregon                     17\n",
       "South Carolina              16\n",
       " Nevada                     16\n",
       "Connecticut                 16\n",
       " New Hampshire              16\n",
       " Kansas                     16\n",
       " Colorado                   16\n",
       "District of Columbia        16\n",
       " Iowa                       14\n",
       " Maryland                   14\n",
       "New Jersey                  14\n",
       " Maine                      14\n",
       " Nebraska                   14\n",
       "Delaware                    13\n",
       " Illinois                   13\n",
       " South Dakota               13\n",
       " Arkansas                   13\n",
       " Missouri                   11\n",
       " Pennsylvania               10\n",
       " District of Columbia       10\n",
       " Mississippi                10\n",
       " Tennessee                   9\n",
       " Virginia                    9\n",
       " Delaware                    9\n",
       " South Carolina              8\n",
       " Connecticut                 7\n",
       " Wisconsin                   5\n",
       "Idaho                        4\n",
       " New Jersey                  4\n",
       " Idaho                       3\n",
       "Name: state_of_previous_residence, dtype: int64"
      ]
     },
     "execution_count": 11,
     "metadata": {},
     "output_type": "execute_result"
    }
   ],
   "source": [
    "census_eval['state_of_previous_residence'].value_counts()"
   ]
  },
  {
   "cell_type": "code",
   "execution_count": 12,
   "metadata": {},
   "outputs": [
    {
     "name": "stdout",
     "output_type": "stream",
     "text": [
      "class_of_worker\n",
      "education\n",
      "enrolled_in_edu_inst_lastwk\n",
      "marital_status\n",
      "major_industry_code\n",
      "major_occupation_code\n",
      "race\n",
      "hispanic_origin\n",
      "sex\n",
      "member_of_labor_union\n",
      "reason_for_unemployment\n",
      "full_parttime_employment_stat\n",
      "tax_filer_status\n",
      "region_of_previous_residence\n",
      "state_of_previous_residence\n",
      "d_household_family_stat\n",
      "d_household_summary\n",
      "live_1_year_ago\n",
      "family_members_under_18\n",
      "country_father\n",
      "country_mother\n",
      "country_self\n",
      "citizenship\n",
      "fill_questionnaire_veteran_admin\n"
     ]
    }
   ],
   "source": [
    "for j in cat_col[:-1]:\n",
    "  if census_eval[j].dtype != \"int64\":\n",
    "    print(j)\n",
    "    census_eval[j] = census_eval[j].apply(lambda x:x.strip())"
   ]
  },
  {
   "cell_type": "code",
   "execution_count": 13,
   "metadata": {},
   "outputs": [
    {
     "name": "stdout",
     "output_type": "stream",
     "text": [
      "Not in universe                   24793\n",
      "Private                           18287\n",
      "Self-employed-not incorporated     2119\n",
      "Local government                   1932\n",
      "State government                   1060\n",
      "Self-employed-incorporated          877\n",
      "Federal government                  777\n",
      "Never worked                        103\n",
      "Without pay                          52\n",
      "Name: class_of_worker, dtype: int64\n",
      "0     24896\n",
      "33     4387\n",
      "43     2104\n",
      "4      1512\n",
      "42     1161\n",
      "29     1116\n",
      "45     1099\n",
      "37     1088\n",
      "41      972\n",
      "32      908\n",
      "35      802\n",
      "39      743\n",
      "34      685\n",
      "44      655\n",
      "2       586\n",
      "11      455\n",
      "38      436\n",
      "40      426\n",
      "47      426\n",
      "50      398\n",
      "24      377\n",
      "12      355\n",
      "19      343\n",
      "30      309\n",
      "31      299\n",
      "25      291\n",
      "9       264\n",
      "22      257\n",
      "36      242\n",
      "13      240\n",
      "1       180\n",
      "48      161\n",
      "27      158\n",
      "49      150\n",
      "3       149\n",
      "23      142\n",
      "16      136\n",
      "5       133\n",
      "18      132\n",
      "8       131\n",
      "21      121\n",
      "15      119\n",
      "6       113\n",
      "7       108\n",
      "14       76\n",
      "46       48\n",
      "17       34\n",
      "26       32\n",
      "28       24\n",
      "20       14\n",
      "51        5\n",
      "10        2\n",
      "Name: industry_code, dtype: int64\n",
      "0     24896\n",
      "2      2345\n",
      "26     1860\n",
      "19     1460\n",
      "29     1245\n",
      "36     1079\n",
      "34     1010\n",
      "10      955\n",
      "33      886\n",
      "16      885\n",
      "12      880\n",
      "23      850\n",
      "35      837\n",
      "3       798\n",
      "38      765\n",
      "31      671\n",
      "32      578\n",
      "37      573\n",
      "8       518\n",
      "42      475\n",
      "30      455\n",
      "24      436\n",
      "17      432\n",
      "28      413\n",
      "44      390\n",
      "41      379\n",
      "43      376\n",
      "4       351\n",
      "13      317\n",
      "18      283\n",
      "39      277\n",
      "14      224\n",
      "5       218\n",
      "15      211\n",
      "25      210\n",
      "9       202\n",
      "27      201\n",
      "7       195\n",
      "11      178\n",
      "21      145\n",
      "40      140\n",
      "1       122\n",
      "22      113\n",
      "6       107\n",
      "45       33\n",
      "20       21\n",
      "46        5\n",
      "Name: occupation_code, dtype: int64\n",
      "High school graduate                      12166\n",
      "Children                                  11554\n",
      "Some college but no degree                 6954\n",
      "Bachelors degree(BA AB BS)                 5187\n",
      "7th and 8th grade                          1986\n",
      "10th grade                                 1918\n",
      "Masters degree(MA MS MEng MEd MSW MBA)     1710\n",
      "11th grade                                 1672\n",
      "9th grade                                  1602\n",
      "Associates degree-occup /vocational        1307\n",
      "Associates degree-academic program         1064\n",
      "5th or 6th grade                            844\n",
      "12th grade no diploma                       523\n",
      "Prof school degree (MD DDS DVM LLB JD)      500\n",
      "1st 2nd 3rd or 4th grade                    446\n",
      "Doctorate degree(PhD EdD)                   351\n",
      "Less than 1st grade                         216\n",
      "Name: education, dtype: int64\n",
      "Not in universe          46910\n",
      "High school               1686\n",
      "College or university     1404\n",
      "Name: enrolled_in_edu_inst_lastwk, dtype: int64\n",
      "Married-civilian spouse present    21393\n",
      "Never married                      21308\n",
      "Divorced                            3231\n",
      "Widowed                             2672\n",
      "Separated                            850\n",
      "Married-spouse absent                380\n",
      "Married-A F spouse present           166\n",
      "Name: marital_status, dtype: int64\n",
      "Not in universe or children            24896\n",
      "Retail trade                            4387\n",
      "Manufacturing-durable goods             2298\n",
      "Education                               2104\n",
      "Manufacturing-nondurable goods          1759\n",
      "Business and repair services            1524\n",
      "Construction                            1512\n",
      "Finance insurance and real estate       1487\n",
      "Medical except hospital                 1161\n",
      "Public administration                   1135\n",
      "Transportation                          1116\n",
      "Other professional services             1099\n",
      "Hospital services                        972\n",
      "Wholesale trade                          908\n",
      "Agriculture                              766\n",
      "Personal services except private HH      743\n",
      "Social services                          655\n",
      "Entertainment                            426\n",
      "Communications                           309\n",
      "Utilities and sanitary services          299\n",
      "Private household services               242\n",
      "Mining                                   149\n",
      "Forestry and fisheries                    48\n",
      "Armed Forces                               5\n",
      "Name: major_industry_code, dtype: int64\n",
      "Not in universe                          24896\n",
      "Adm support including clerical            3614\n",
      "Professional specialty                    3604\n",
      "Executive admin and managerial            3265\n",
      "Sales                                     3081\n",
      "Other service                             2949\n",
      "Precision production craft & repair       2733\n",
      "Machine operators assmblrs & inspctrs     1652\n",
      "Transportation and material moving        1042\n",
      "Handlers equip cleaners etc                994\n",
      "Farming forestry and fishing               799\n",
      "Technicians and related support            752\n",
      "Protective services                        413\n",
      "Private household services                 201\n",
      "Armed Forces                                 5\n",
      "Name: major_occupation_code, dtype: int64\n",
      "White                          42059\n",
      "Black                           5061\n",
      "Asian or Pacific Islander       1443\n",
      "Other                            900\n",
      "Amer Indian Aleut or Eskimo      537\n",
      "Name: race, dtype: int64\n",
      "All other                    43323\n",
      "Mexican-American              2005\n",
      "Mexican (Mexicano)            1810\n",
      "Central or South American      930\n",
      "Puerto Rican                   830\n",
      "Other Spanish                  630\n",
      "Cuban                          315\n",
      "Do not know                     79\n",
      "Chicano                         78\n",
      "Name: hispanic_origin, dtype: int64\n",
      "Female    25906\n",
      "Male      24094\n",
      "Name: sex, dtype: int64\n",
      "Not in universe    45106\n",
      "No                  4092\n",
      "Yes                  802\n",
      "Name: member_of_labor_union, dtype: int64\n",
      "Not in universe          48453\n",
      "Other job loser            542\n",
      "Re-entrant                 521\n",
      "Job loser - on layoff      230\n",
      "Job leaver                 151\n",
      "New entrant                103\n",
      "Name: reason_for_unemployment, dtype: int64\n",
      "Children or Armed Forces              30677\n",
      "Full-time schedules                   10474\n",
      "Not in labor force                     6761\n",
      "PT for non-econ reasons usually FT      832\n",
      "Unemployed full-time                    585\n",
      "PT for econ reasons usually PT          309\n",
      "Unemployed part- time                   216\n",
      "PT for econ reasons usually FT          146\n",
      "Name: full_parttime_employment_stat, dtype: int64\n",
      "Nonfiler                        18496\n",
      "Joint both under 65             17100\n",
      "Single                           9444\n",
      "Joint both 65+                   2137\n",
      "Head of household                1842\n",
      "Joint one under 65 & one 65+      981\n",
      "Name: tax_filer_status, dtype: int64\n",
      "Not in universe    46184\n",
      "South               1177\n",
      "West                 977\n",
      "Midwest              876\n",
      "Northeast            674\n",
      "Abroad               112\n",
      "Name: region_of_previous_residence, dtype: int64\n",
      "Not in universe         46361\n",
      "California                434\n",
      "Utah                      238\n",
      "Florida                   200\n",
      "North Carolina            198\n",
      "Indiana                   151\n",
      "Abroad                    147\n",
      "Oklahoma                  142\n",
      "Minnesota                 139\n",
      "North Dakota              127\n",
      "New Mexico                111\n",
      "Michigan                  104\n",
      "West Virginia              60\n",
      "Arizona                    60\n",
      "Wyoming                    59\n",
      "Montana                    58\n",
      "Colorado                   57\n",
      "Alabama                    56\n",
      "Alaska                     54\n",
      "Louisiana                  54\n",
      "Kentucky                   53\n",
      "Georgia                    53\n",
      "Oregon                     53\n",
      "Ohio                       51\n",
      "Texas                      49\n",
      "Kansas                     49\n",
      "Massachusetts              49\n",
      "Nevada                     48\n",
      "Vermont                    48\n",
      "New Hampshire              47\n",
      "Nebraska                   47\n",
      "Arkansas                   45\n",
      "Tennessee                  45\n",
      "Pennsylvania               45\n",
      "Mississippi                43\n",
      "South Dakota               42\n",
      "Illinois                   42\n",
      "Missouri                   41\n",
      "Maryland                   41\n",
      "New York                   41\n",
      "Maine                      41\n",
      "Iowa                       38\n",
      "Virginia                   35\n",
      "District of Columbia       26\n",
      "Wisconsin                  24\n",
      "South Carolina             24\n",
      "Connecticut                23\n",
      "Delaware                   22\n",
      "New Jersey                 18\n",
      "Idaho                       7\n",
      "Name: state_of_previous_residence, dtype: int64\n",
      "Householder                                        13555\n",
      "Child <18 never marr not in subfamily              12304\n",
      "Spouse of householder                              10438\n",
      "Nonfamily householder                               5625\n",
      "Child 18+ never marr Not in a subfamily             2964\n",
      "Secondary individual                                1622\n",
      "Other Rel 18+ ever marr not in subfamily             503\n",
      "Grandchild <18 never marr child of subfamily RP      473\n",
      "Other Rel 18+ never marr not in subfamily            416\n",
      "Grandchild <18 never marr not in subfamily           261\n",
      "Child 18+ ever marr Not in a subfamily               250\n",
      "Other Rel 18+ spouse of subfamily RP                 177\n",
      "RP of unrelated subfamily                            175\n",
      "Child under 18 of RP of unrel subfamily              172\n",
      "Child 18+ never marr RP of subfamily                 169\n",
      "Child 18+ ever marr RP of subfamily                  169\n",
      "Other Rel <18 never marr child of subfamily RP       164\n",
      "Other Rel 18+ ever marr RP of subfamily              156\n",
      "Other Rel <18 never marr not in subfamily            140\n",
      "Grandchild 18+ never marr not in subfamily            85\n",
      "In group quarters                                     48\n",
      "Child 18+ spouse of subfamily RP                      34\n",
      "Other Rel 18+ never marr RP of subfamily              31\n",
      "Child <18 never marr RP of subfamily                  20\n",
      "Spouse of RP of unrelated subfamily                   14\n",
      "Child <18 ever marr not in subfamily                  11\n",
      "Grandchild 18+ ever marr not in subfamily             11\n",
      "Other Rel <18 ever marr RP of subfamily                2\n",
      "Grandchild 18+ spouse of subfamily RP                  2\n",
      "Other Rel <18 never married RP of subfamily            2\n",
      "Grandchild 18+ ever marr RP of subfamily               2\n",
      "Child <18 ever marr RP of subfamily                    2\n",
      "Grandchild 18+ never marr RP of subfamily              1\n",
      "Grandchild <18 ever marr not in subfamily              1\n",
      "Child <18 spouse of subfamily RP                       1\n",
      "Name: d_household_family_stat, dtype: int64\n",
      "Householder                             19185\n",
      "Child under 18 never married            12327\n",
      "Spouse of householder                   10441\n",
      "Child 18 or older                        3586\n",
      "Other relative of householder            2430\n",
      "Nonrelative of householder               1984\n",
      "Group Quarters- Secondary individual       33\n",
      "Child under 18 ever married                14\n",
      "Name: d_household_summary, dtype: int64\n",
      "Not in universe under 1 year old    25569\n",
      "Yes                                 20615\n",
      "No                                   3816\n",
      "Name: live_1_year_ago, dtype: int64\n",
      "0    23695\n",
      "6     9378\n",
      "1     5730\n",
      "4     3684\n",
      "3     3457\n",
      "2     2513\n",
      "5     1543\n",
      "Name: num_person_Worked_employer, dtype: int64\n",
      "Not in universe           36471\n",
      "Both parents present       9508\n",
      "Mother only present        3139\n",
      "Father only present         480\n",
      "Neither parent present      402\n",
      "Name: family_members_under_18, dtype: int64\n",
      "United-States                   41636\n",
      "Mexico                           2500\n",
      "Puerto-Rico                       669\n",
      "Italy                             568\n",
      "Dominican-Republic                347\n",
      "Canada                            339\n",
      "Germany                           335\n",
      "Poland                            305\n",
      "Philippines                       288\n",
      "Cuba                              285\n",
      "El-Salvador                       248\n",
      "China                             214\n",
      "England                           194\n",
      "India                             151\n",
      "Columbia                          144\n",
      "South Korea                       130\n",
      "Ireland                           130\n",
      "Vietnam                           105\n",
      "Jamaica                           103\n",
      "Guatemala                         101\n",
      "Japan                              99\n",
      "Ecuador                            89\n",
      "Greece                             86\n",
      "Portugal                           85\n",
      "Nicaragua                          84\n",
      "Haiti                              76\n",
      "Peru                               76\n",
      "Hungary                            75\n",
      "Yugoslavia                         64\n",
      "Iran                               63\n",
      "Scotland                           57\n",
      "Cambodia                           55\n",
      "Honduras                           48\n",
      "Outlying-U S (Guam USVI etc)       45\n",
      "Taiwan                             43\n",
      "France                             36\n",
      "Laos                               35\n",
      "Thailand                           35\n",
      "Trinadad&Tobago                    19\n",
      "Hong Kong                          18\n",
      "Holand-Netherlands                 13\n",
      "Panama                              7\n",
      "Name: country_father, dtype: int64\n",
      "United-States                   41729\n",
      "Mexico                           2464\n",
      "Puerto-Rico                       620\n",
      "Italy                             453\n",
      "Canada                            365\n",
      "Germany                           357\n",
      "Philippines                       304\n",
      "Cuba                              303\n",
      "El-Salvador                       287\n",
      "Poland                            284\n",
      "Dominican-Republic                281\n",
      "England                           213\n",
      "China                             195\n",
      "Ireland                           157\n",
      "India                             150\n",
      "South Korea                       149\n",
      "Columbia                          139\n",
      "Japan                             132\n",
      "Vietnam                           113\n",
      "Guatemala                         102\n",
      "Jamaica                            99\n",
      "Ecuador                            90\n",
      "Nicaragua                          89\n",
      "Peru                               83\n",
      "Haiti                              80\n",
      "Portugal                           75\n",
      "Hungary                            73\n",
      "Greece                             69\n",
      "Scotland                           62\n",
      "Honduras                           58\n",
      "France                             54\n",
      "Iran                               54\n",
      "Yugoslavia                         50\n",
      "Taiwan                             50\n",
      "Cambodia                           47\n",
      "Outlying-U S (Guam USVI etc)       39\n",
      "Thailand                           38\n",
      "Laos                               33\n",
      "Trinadad&Tobago                    18\n",
      "Holand-Netherlands                 16\n",
      "Hong Kong                          14\n",
      "Panama                             12\n",
      "Name: country_mother, dtype: int64\n",
      "United-States                   45207\n",
      "Mexico                           1457\n",
      "Puerto-Rico                       340\n",
      "Cuba                              223\n",
      "Germany                           216\n",
      "Philippines                       216\n",
      "Dominican-Republic                183\n",
      "El-Salvador                       178\n",
      "Canada                            170\n",
      "China                             130\n",
      "England                           117\n",
      "South Korea                       116\n",
      "India                             107\n",
      "Italy                             101\n",
      "Columbia                           97\n",
      "Poland                             96\n",
      "Vietnam                            89\n",
      "Japan                              84\n",
      "Guatemala                          80\n",
      "Jamaica                            69\n",
      "Nicaragua                          65\n",
      "Peru                               64\n",
      "Ecuador                            62\n",
      "Haiti                              47\n",
      "Taiwan                             42\n",
      "Portugal                           42\n",
      "Iran                               41\n",
      "Ireland                            37\n",
      "Greece                             36\n",
      "Honduras                           35\n",
      "Thailand                           33\n",
      "Cambodia                           30\n",
      "Laos                               30\n",
      "France                             30\n",
      "Outlying-U S (Guam USVI etc)       28\n",
      "Scotland                           20\n",
      "Hungary                            19\n",
      "Hong Kong                          18\n",
      "Yugoslavia                         17\n",
      "Trinadad&Tobago                    17\n",
      "Panama                              6\n",
      "Holand-Netherlands                  5\n",
      "Name: country_self, dtype: int64\n",
      "Native- Born in the United States              44391\n",
      "Foreign born- Not a citizen of U S              3292\n",
      "Foreign born- U S citizen by naturalization     1492\n",
      "Native- Born abroad of American Parent(s)        457\n",
      "Native- Born in Puerto Rico or U S Outlying      368\n",
      "Name: citizenship, dtype: int64\n"
     ]
    },
    {
     "name": "stdout",
     "output_type": "stream",
     "text": [
      "0    45163\n",
      "2     4150\n",
      "1      687\n",
      "Name: business_or_self_employed, dtype: int64\n",
      "2    37952\n",
      "0    11549\n",
      "1      499\n",
      "Name: veterans_benefits, dtype: int64\n",
      "0     23695\n",
      "52    18011\n",
      "40      715\n",
      "26      583\n",
      "50      521\n",
      "12      468\n",
      "48      442\n",
      "20      341\n",
      "30      335\n",
      "36      289\n",
      "8       267\n",
      "16      252\n",
      "44      234\n",
      "32      224\n",
      "51      214\n",
      "4       187\n",
      "10      185\n",
      "45      178\n",
      "24      174\n",
      "35      172\n",
      "46      171\n",
      "6       169\n",
      "28      147\n",
      "39      135\n",
      "42      134\n",
      "49      132\n",
      "1       126\n",
      "13      120\n",
      "2       112\n",
      "25      105\n",
      "43      100\n",
      "22       98\n",
      "3        97\n",
      "15       92\n",
      "38       77\n",
      "17       76\n",
      "47       67\n",
      "5        67\n",
      "9        60\n",
      "34       60\n",
      "14       59\n",
      "18       52\n",
      "11       39\n",
      "7        35\n",
      "37       33\n",
      "21       31\n",
      "33       25\n",
      "41       18\n",
      "29       17\n",
      "27       16\n",
      "23       15\n",
      "19       15\n",
      "31       13\n",
      "Name: weeks_worked_in_year, dtype: int64\n",
      "Not in universe    49501\n",
      "No                   397\n",
      "Yes                  102\n",
      "Name: fill_questionnaire_veteran_admin, dtype: int64\n",
      "95    25220\n",
      "94    24780\n",
      "Name: year, dtype: int64\n"
     ]
    }
   ],
   "source": [
    "for j in cat_col[:-1]:\n",
    "    print(census_eval[j].value_counts())"
   ]
  },
  {
   "cell_type": "code",
   "execution_count": 14,
   "metadata": {},
   "outputs": [
    {
     "data": {
      "text/plain": [
       "age                                 0\n",
       "class_of_worker                     0\n",
       "industry_code                       0\n",
       "occupation_code                     0\n",
       "education                           0\n",
       "wage_per_hour                       0\n",
       "enrolled_in_edu_inst_lastwk         0\n",
       "marital_status                      0\n",
       "major_industry_code                 0\n",
       "major_occupation_code               0\n",
       "race                                0\n",
       "hispanic_origin                     0\n",
       "sex                                 0\n",
       "member_of_labor_union               0\n",
       "reason_for_unemployment             0\n",
       "full_parttime_employment_stat       0\n",
       "capital_gains                       0\n",
       "capital_losses                      0\n",
       "dividend_from_Stocks                0\n",
       "tax_filer_status                    0\n",
       "region_of_previous_residence        0\n",
       "state_of_previous_residence         0\n",
       "d_household_family_stat             0\n",
       "d_household_summary                 0\n",
       "live_1_year_ago                     0\n",
       "num_person_Worked_employer          0\n",
       "family_members_under_18             0\n",
       "country_father                      0\n",
       "country_mother                      0\n",
       "country_self                        0\n",
       "citizenship                         0\n",
       "business_or_self_employed           0\n",
       "fill_questionnaire_veteran_admin    0\n",
       "veterans_benefits                   0\n",
       "weeks_worked_in_year                0\n",
       "year                                0\n",
       "dtype: int64"
      ]
     },
     "execution_count": 14,
     "metadata": {},
     "output_type": "execute_result"
    }
   ],
   "source": [
    "census_eval.isnull().sum()"
   ]
  },
  {
   "cell_type": "code",
   "execution_count": 15,
   "metadata": {},
   "outputs": [
    {
     "data": {
      "text/plain": [
       "(50000, 36)"
      ]
     },
     "execution_count": 15,
     "metadata": {},
     "output_type": "execute_result"
    }
   ],
   "source": [
    "census_eval.shape"
   ]
  },
  {
   "cell_type": "code",
   "execution_count": 16,
   "metadata": {},
   "outputs": [
    {
     "data": {
      "text/plain": [
       "35"
      ]
     },
     "execution_count": 16,
     "metadata": {},
     "output_type": "execute_result"
    }
   ],
   "source": [
    "census_eval['d_household_family_stat'].nunique()"
   ]
  },
  {
   "cell_type": "markdown",
   "metadata": {},
   "source": [
    "# Training the Census Dataset"
   ]
  },
  {
   "cell_type": "code",
   "execution_count": 17,
   "metadata": {},
   "outputs": [],
   "source": [
    "pd.set_option('display.max_columns', None)\n",
    "census_data = pd.read_csv(\n",
    "    \"https://raw.githubusercontent.com/dphi-official/Datasets/master/Census_Income/Training_set_census.csv\" )"
   ]
  },
  {
   "cell_type": "code",
   "execution_count": 18,
   "metadata": {},
   "outputs": [],
   "source": [
    "census_data.drop(labels = ['migration_msa','migration_reg','migration_within_reg','migration_sunbelt'], axis = 1, inplace = True)"
   ]
  },
  {
   "cell_type": "code",
   "execution_count": 19,
   "metadata": {},
   "outputs": [
    {
     "data": {
      "text/plain": [
       "age                                    0\n",
       "class_of_worker                        0\n",
       "industry_code                          0\n",
       "occupation_code                        0\n",
       "education                              0\n",
       "wage_per_hour                          0\n",
       "enrolled_in_edu_inst_lastwk            0\n",
       "marital_status                         0\n",
       "major_industry_code                    0\n",
       "major_occupation_code                  0\n",
       "race                                   0\n",
       "hispanic_origin                      592\n",
       "sex                                    0\n",
       "member_of_labor_union                  0\n",
       "reason_for_unemployment                0\n",
       "full_parttime_employment_stat          0\n",
       "capital_gains                          0\n",
       "capital_losses                         0\n",
       "dividend_from_Stocks                   0\n",
       "tax_filer_status                       0\n",
       "region_of_previous_residence           0\n",
       "state_of_previous_residence          477\n",
       "d_household_family_stat                0\n",
       "d_household_summary                    0\n",
       "live_1_year_ago                        0\n",
       "num_person_Worked_employer             0\n",
       "family_members_under_18                0\n",
       "country_father                      4522\n",
       "country_mother                      4136\n",
       "country_self                        2312\n",
       "citizenship                            0\n",
       "business_or_self_employed              0\n",
       "fill_questionnaire_veteran_admin       0\n",
       "veterans_benefits                      0\n",
       "weeks_worked_in_year                   0\n",
       "year                                   0\n",
       "income_level                           0\n",
       "dtype: int64"
      ]
     },
     "execution_count": 19,
     "metadata": {},
     "output_type": "execute_result"
    }
   ],
   "source": [
    "census_data.isnull().sum()"
   ]
  },
  {
   "cell_type": "code",
   "execution_count": 20,
   "metadata": {},
   "outputs": [
    {
     "data": {
      "text/plain": [
       "Not in universe          123002\n",
       " Not in universe          61297\n",
       "California                 1123\n",
       "Utah                        724\n",
       " California                 609\n",
       "Florida                     562\n",
       "North Carolina              555\n",
       "Abroad                      431\n",
       "Oklahoma                    409\n",
       "Minnesota                   387\n",
       "Indiana                     364\n",
       " Utah                       356\n",
       "North Dakota                340\n",
       "New Mexico                  318\n",
       " Florida                    299\n",
       "Michigan                    288\n",
       " North Carolina             279\n",
       " ?                          215\n",
       "Alaska                      210\n",
       " Oklahoma                   201\n",
       " Minnesota                  185\n",
       " Indiana                    184\n",
       "New Hampshire               180\n",
       " Abroad                     175\n",
       "Kentucky                    175\n",
       "Oregon                      160\n",
       "Colorado                    160\n",
       "Arizona                     159\n",
       "Wyoming                     156\n",
       "Montana                     153\n",
       "Georgia                     151\n",
       "West Virginia               150\n",
       " New Mexico                 148\n",
       " North Dakota               148\n",
       "New York                    147\n",
       "Alabama                     146\n",
       "Texas                       143\n",
       "Ohio                        139\n",
       "Arkansas                    139\n",
       "Vermont                     138\n",
       " Michigan                   137\n",
       "Tennessee                   129\n",
       "Mississippi                 128\n",
       "Iowa                        128\n",
       "Pennsylvania                125\n",
       "Louisiana                   122\n",
       "Illinois                    121\n",
       "Maine                       119\n",
       "Missouri                    116\n",
       "Nevada                      116\n",
       "Nebraska                    113\n",
       " Arizona                     98\n",
       "Massachusetts                98\n",
       "South Dakota                 93\n",
       "Kansas                       93\n",
       " Alaska                      89\n",
       "Virginia                     86\n",
       "Maryland                     84\n",
       "District of Columbia         82\n",
       " Kentucky                    81\n",
       " Louisiana                   80\n",
       " Colorado                    78\n",
       " New Hampshire               78\n",
       " Pennsylvania                76\n",
       " Nebraska                    74\n",
       " Georgia                     74\n",
       " Alabama                     73\n",
       " Arkansas                    73\n",
       " New York                    72\n",
       "Connecticut                  72\n",
       " Tennessee                   71\n",
       " West Virginia               71\n",
       " Oregon                      69\n",
       " Vermont                     67\n",
       " Montana                     67\n",
       "Wisconsin                    65\n",
       " Wyoming                     64\n",
       " Ohio                        63\n",
       "South Carolina               58\n",
       " Texas                       54\n",
       " Nevada                      53\n",
       " Illinois                    53\n",
       " Mississippi                 53\n",
       "New Jersey                   52\n",
       " Maryland                    51\n",
       " South Dakota                51\n",
       " Connecticut                 48\n",
       " Missouri                    47\n",
       " Kansas                      46\n",
       " Massachusetts               45\n",
       " Maine                       43\n",
       "Delaware                     42\n",
       " Wisconsin                   42\n",
       " District of Columbia        42\n",
       " Iowa                        40\n",
       " Virginia                    38\n",
       " South Carolina              32\n",
       " Delaware                    28\n",
       "Idaho                        24\n",
       " New Jersey                  23\n",
       " Idaho                        8\n",
       "Name: state_of_previous_residence, dtype: int64"
      ]
     },
     "execution_count": 20,
     "metadata": {},
     "output_type": "execute_result"
    }
   ],
   "source": [
    "census_data['state_of_previous_residence'].value_counts()"
   ]
  },
  {
   "cell_type": "code",
   "execution_count": 21,
   "metadata": {},
   "outputs": [],
   "source": [
    "census_data['country_mother'].replace(to_replace = np.nan, value = 'United-States', inplace = True)\n",
    "census_data['country_mother'].replace(to_replace = \"?\", value = 'United-States', inplace = True)\n",
    "census_data['country_mother'].replace(to_replace = \" ?\", value = 'United-States', inplace = True)"
   ]
  },
  {
   "cell_type": "code",
   "execution_count": 22,
   "metadata": {},
   "outputs": [],
   "source": [
    "census_data['country_father'].replace(to_replace = np.nan, value = 'United-States', inplace = True)\n",
    "census_data['country_father'].replace(to_replace = \"?\", value = 'United-States', inplace = True)\n",
    "census_data['country_father'].replace(to_replace = \" ?\", value = 'United-States', inplace = True)"
   ]
  },
  {
   "cell_type": "code",
   "execution_count": 23,
   "metadata": {},
   "outputs": [],
   "source": [
    "census_data['state_of_previous_residence'].replace(to_replace = np.nan, value = 'Not in universe', inplace = True)\n",
    "census_data['state_of_previous_residence'].replace(to_replace = \"?\", value = 'Not in universe', inplace = True)\n",
    "census_data['state_of_previous_residence'].replace(to_replace = str(\"?\"), value = 'Not in universe', inplace = True)\n",
    "census_data['state_of_previous_residence'].replace(to_replace = str(\" ?\"), value = 'Not in universe', inplace = True)\n",
    "census_data['state_of_previous_residence'].replace(to_replace = \" ?\", value = 'Not in universe', inplace = True)"
   ]
  },
  {
   "cell_type": "code",
   "execution_count": 24,
   "metadata": {},
   "outputs": [],
   "source": [
    "census_data['hispanic_origin'].replace(to_replace = np.nan, value = 'All other', inplace = True)\n",
    "census_data['hispanic_origin'].replace(to_replace = \"NA\", value = 'All other', inplace = True)\n",
    "census_data['hispanic_origin'].replace(to_replace = \" NA\", value = 'All other', inplace = True)\n",
    "census_data['hispanic_origin'].replace(to_replace = \" ?\", value = 'All other', inplace = True)\n",
    "census_data['hispanic_origin'].replace(to_replace = \"?\", value = 'All other', inplace = True)"
   ]
  },
  {
   "cell_type": "code",
   "execution_count": 25,
   "metadata": {},
   "outputs": [],
   "source": [
    "census_data['country_self'].replace(to_replace = np.nan, value = 'United-States', inplace = True)\n",
    "census_data['country_self'].replace(to_replace = \"?\", value = 'United-States', inplace = True)\n",
    "census_data['country_self'].replace(to_replace = str(\"?\"), value = 'United-States', inplace = True)\n",
    "census_data['country_self'].replace(to_replace = \" ?\", value = 'United-States', inplace = True)"
   ]
  },
  {
   "cell_type": "code",
   "execution_count": 26,
   "metadata": {},
   "outputs": [],
   "source": [
    "census_data['d_household_family_stat'].replace(to_replace = \"Child <18 spouse of subfamily RP\", value = \"Householder\", inplace = True)\n",
    "census_data['d_household_family_stat'].replace(to_replace = \"Grandchild 18+ never marr RP of subfamily\", value = \"Householder\", inplace = True)"
   ]
  },
  {
   "cell_type": "code",
   "execution_count": 27,
   "metadata": {},
   "outputs": [
    {
     "name": "stdout",
     "output_type": "stream",
     "text": [
      "class_of_worker\n",
      "education\n",
      "enrolled_in_edu_inst_lastwk\n",
      "marital_status\n",
      "major_industry_code\n",
      "major_occupation_code\n",
      "race\n",
      "hispanic_origin\n",
      "sex\n",
      "member_of_labor_union\n",
      "reason_for_unemployment\n",
      "full_parttime_employment_stat\n",
      "tax_filer_status\n",
      "region_of_previous_residence\n",
      "state_of_previous_residence\n",
      "d_household_family_stat\n",
      "d_household_summary\n",
      "live_1_year_ago\n",
      "family_members_under_18\n",
      "country_father\n",
      "country_mother\n",
      "country_self\n",
      "citizenship\n",
      "fill_questionnaire_veteran_admin\n"
     ]
    }
   ],
   "source": [
    "for j in cat_col[:-1]:\n",
    "  if census_data[j].dtype != \"int64\":\n",
    "    print(j)\n",
    "    census_data[j] = census_data[j].apply(lambda x:x.strip())"
   ]
  },
  {
   "cell_type": "code",
   "execution_count": 28,
   "metadata": {},
   "outputs": [],
   "source": [
    "census_data['d_household_family_stat'].replace(to_replace = \"Child <18 spouse of subfamily RP\", value = \"Householder\", inplace = True)\n",
    "census_data['d_household_family_stat'].replace(to_replace = \"Grandchild 18+ never marr RP of subfamily\", value = \"Householder\", inplace = True)"
   ]
  },
  {
   "cell_type": "code",
   "execution_count": 29,
   "metadata": {},
   "outputs": [
    {
     "name": "stdout",
     "output_type": "stream",
     "text": [
      "Not in universe                   99144\n",
      "Private                           72923\n",
      "Self-employed-not incorporated     8694\n",
      "Local government                   7878\n",
      "State government                   4360\n",
      "Self-employed-incorporated         3492\n",
      "Federal government                 2942\n",
      "Never worked                        426\n",
      "Without pay                         141\n",
      "Name: class_of_worker, dtype: int64\n",
      "0     99570\n",
      "33    17069\n",
      "43     8478\n",
      "4      6091\n",
      "42     4792\n",
      "45     4657\n",
      "29     4294\n",
      "37     4162\n",
      "41     3973\n",
      "32     3707\n",
      "35     3526\n",
      "39     2905\n",
      "34     2844\n",
      "44     2477\n",
      "2      2153\n",
      "11     1843\n",
      "50     1809\n",
      "47     1671\n",
      "38     1644\n",
      "40     1644\n",
      "24     1538\n",
      "12     1390\n",
      "19     1372\n",
      "30     1227\n",
      "31     1203\n",
      "25     1094\n",
      "9       999\n",
      "36      964\n",
      "13      955\n",
      "22      941\n",
      "1       832\n",
      "48      629\n",
      "27      624\n",
      "3       614\n",
      "49      608\n",
      "21      586\n",
      "5       568\n",
      "8       559\n",
      "16      549\n",
      "6       544\n",
      "23      533\n",
      "15      464\n",
      "18      448\n",
      "7       442\n",
      "14      299\n",
      "46      203\n",
      "17      158\n",
      "28      141\n",
      "26      133\n",
      "51       38\n",
      "20       33\n",
      "10        3\n",
      "Name: industry_code, dtype: int64\n",
      "0     99570\n",
      "2      9246\n",
      "26     7755\n",
      "19     5337\n",
      "29     5107\n",
      "36     4115\n",
      "34     4010\n",
      "10     3698\n",
      "16     3531\n",
      "12     3445\n",
      "33     3388\n",
      "3      3357\n",
      "23     3314\n",
      "35     3202\n",
      "38     3047\n",
      "31     2692\n",
      "32     2398\n",
      "8      2233\n",
      "37     2194\n",
      "42     1914\n",
      "17     1904\n",
      "30     1893\n",
      "24     1845\n",
      "28     1685\n",
      "41     1605\n",
      "44     1554\n",
      "4      1502\n",
      "43     1369\n",
      "13     1265\n",
      "18     1177\n",
      "39      975\n",
      "5       953\n",
      "14      930\n",
      "15      858\n",
      "7       853\n",
      "27      815\n",
      "9       787\n",
      "25      782\n",
      "11      693\n",
      "40      671\n",
      "1       599\n",
      "21      557\n",
      "6       470\n",
      "22      417\n",
      "45      187\n",
      "20       63\n",
      "46       38\n",
      "Name: occupation_code, dtype: int64\n",
      "High school graduate                      48114\n",
      "Children                                  46693\n",
      "Some college but no degree                28046\n",
      "Bachelors degree(BA AB BS)                20467\n",
      "7th and 8th grade                          7986\n",
      "10th grade                                 7440\n",
      "Masters degree(MA MS MEng MEd MSW MBA)     7003\n",
      "11th grade                                 6923\n",
      "9th grade                                  6151\n",
      "Associates degree-occup /vocational        5441\n",
      "Associates degree-academic program         4379\n",
      "5th or 6th grade                           3259\n",
      "12th grade no diploma                      2146\n",
      "Prof school degree (MD DDS DVM LLB JD)     1959\n",
      "1st 2nd 3rd or 4th grade                   1785\n",
      "Doctorate degree(PhD EdD)                  1385\n",
      "Less than 1st grade                         823\n",
      "Name: education, dtype: int64\n",
      "Not in universe          187457\n",
      "High school                6890\n",
      "College or university      5653\n",
      "Name: enrolled_in_edu_inst_lastwk, dtype: int64\n",
      "Never married                      85582\n",
      "Married-civilian spouse present    85440\n",
      "Divorced                           12908\n",
      "Widowed                            10448\n",
      "Separated                           3464\n",
      "Married-spouse absent               1493\n",
      "Married-A F spouse present           665\n",
      "Name: marital_status, dtype: int64\n",
      "Not in universe or children            99570\n",
      "Retail trade                           17069\n",
      "Manufacturing-durable goods             9221\n",
      "Education                               8478\n",
      "Manufacturing-nondurable goods          6995\n",
      "Finance insurance and real estate       6370\n",
      "Construction                            6091\n",
      "Business and repair services            5806\n",
      "Medical except hospital                 4792\n",
      "Public administration                   4717\n",
      "Other professional services             4657\n",
      "Transportation                          4294\n",
      "Hospital services                       3973\n",
      "Wholesale trade                         3707\n",
      "Agriculture                             2985\n",
      "Personal services except private HH     2905\n",
      "Social services                         2477\n",
      "Entertainment                           1644\n",
      "Communications                          1227\n",
      "Utilities and sanitary services         1203\n",
      "Private household services               964\n",
      "Mining                                   614\n",
      "Forestry and fisheries                   203\n",
      "Armed Forces                              38\n",
      "Name: major_industry_code, dtype: int64\n",
      "Not in universe                          99570\n",
      "Adm support including clerical           14670\n",
      "Professional specialty                   14634\n",
      "Executive admin and managerial           13202\n",
      "Other service                            12090\n",
      "Sales                                    12012\n",
      "Precision production craft & repair      10600\n",
      "Machine operators assmblrs & inspctrs     6309\n",
      "Handlers equip cleaners etc               4190\n",
      "Transportation and material moving        4022\n",
      "Farming forestry and fishing              3110\n",
      "Technicians and related support           3053\n",
      "Protective services                       1685\n",
      "Private household services                 815\n",
      "Armed Forces                                38\n",
      "Name: major_occupation_code, dtype: int64\n",
      "White                          167912\n",
      "Black                           20216\n",
      "Asian or Pacific Islander        5888\n",
      "Other                            3704\n",
      "Amer Indian Aleut or Eskimo      2280\n",
      "Name: race, dtype: int64\n",
      "All other                    173400\n",
      "Mexican-American               8057\n",
      "Mexican (Mexicano)             7157\n",
      "Central or South American      3916\n",
      "Puerto Rican                   3220\n",
      "Other Spanish                  2511\n",
      "Cuban                          1140\n",
      "Chicano                         304\n",
      "Do not know                     295\n",
      "Name: hispanic_origin, dtype: int64\n",
      "Female    103208\n",
      "Male       96792\n",
      "Name: sex, dtype: int64\n",
      "Not in universe    180812\n",
      "No                  16191\n",
      "Yes                  2997\n",
      "Name: member_of_labor_union, dtype: int64\n",
      "Not in universe          193894\n",
      "Other job loser            2113\n",
      "Re-entrant                 1995\n",
      "Job loser - on layoff       989\n",
      "Job leaver                  583\n",
      "New entrant                 426\n",
      "Name: reason_for_unemployment, dtype: int64\n",
      "Children or Armed Forces              123597\n",
      "Full-time schedules                    41530\n",
      "Not in labor force                     26513\n",
      "PT for non-econ reasons usually FT      3436\n",
      "Unemployed full-time                    2362\n",
      "PT for econ reasons usually PT          1228\n",
      "Unemployed part- time                    824\n",
      "PT for econ reasons usually FT           510\n",
      "Name: full_parttime_employment_stat, dtype: int64\n",
      "Nonfiler                        74069\n",
      "Joint both under 65             68686\n",
      "Single                          37563\n",
      "Joint both 65+                   8267\n",
      "Head of household                7520\n",
      "Joint one under 65 & one 65+     3895\n",
      "Name: tax_filer_status, dtype: int64\n",
      "Not in universe    184299\n",
      "South                4896\n",
      "West                 4155\n",
      "Midwest              3485\n",
      "Northeast            2691\n",
      "Abroad                474\n",
      "Name: region_of_previous_residence, dtype: int64\n",
      "Not in universe         184991\n",
      "California                1732\n",
      "Utah                      1080\n",
      "Florida                    861\n",
      "North Carolina             834\n",
      "Oklahoma                   610\n",
      "Abroad                     606\n",
      "Minnesota                  572\n",
      "Indiana                    548\n",
      "North Dakota               488\n",
      "New Mexico                 466\n",
      "Michigan                   425\n",
      "Alaska                     299\n",
      "New Hampshire              258\n",
      "Arizona                    257\n",
      "Kentucky                   256\n",
      "Colorado                   238\n",
      "Oregon                     229\n",
      "Georgia                    225\n",
      "West Virginia              221\n",
      "Montana                    220\n",
      "Wyoming                    220\n",
      "New York                   219\n",
      "Alabama                    219\n",
      "Arkansas                   212\n",
      "Vermont                    205\n",
      "Louisiana                  202\n",
      "Ohio                       202\n",
      "Pennsylvania               201\n",
      "Tennessee                  200\n",
      "Texas                      197\n",
      "Nebraska                   187\n",
      "Mississippi                181\n",
      "Illinois                   174\n",
      "Nevada                     169\n",
      "Iowa                       168\n",
      "Missouri                   163\n",
      "Maine                      162\n",
      "South Dakota               144\n",
      "Massachusetts              143\n",
      "Kansas                     139\n",
      "Maryland                   135\n",
      "District of Columbia       124\n",
      "Virginia                   124\n",
      "Connecticut                120\n",
      "Wisconsin                  107\n",
      "South Carolina              90\n",
      "New Jersey                  75\n",
      "Delaware                    70\n",
      "Idaho                       32\n",
      "Name: state_of_previous_residence, dtype: int64\n"
     ]
    },
    {
     "name": "stdout",
     "output_type": "stream",
     "text": [
      "Householder                                        54582\n",
      "Child <18 never marr not in subfamily              49592\n",
      "Spouse of householder                              41574\n",
      "Nonfamily householder                              22393\n",
      "Child 18+ never marr Not in a subfamily            12052\n",
      "Secondary individual                                6129\n",
      "Other Rel 18+ ever marr not in subfamily            1957\n",
      "Grandchild <18 never marr child of subfamily RP     1773\n",
      "Other Rel 18+ never marr not in subfamily           1691\n",
      "Grandchild <18 never marr not in subfamily          1024\n",
      "Child 18+ ever marr Not in a subfamily               994\n",
      "Child under 18 of RP of unrel subfamily              726\n",
      "Child 18+ ever marr RP of subfamily                  684\n",
      "RP of unrelated subfamily                            676\n",
      "Other Rel 18+ spouse of subfamily RP                 648\n",
      "Other Rel <18 never marr child of subfamily RP       639\n",
      "Other Rel 18+ ever marr RP of subfamily              624\n",
      "Other Rel <18 never marr not in subfamily            606\n",
      "Child 18+ never marr RP of subfamily                 572\n",
      "Grandchild 18+ never marr not in subfamily           385\n",
      "In group quarters                                    186\n",
      "Child 18+ spouse of subfamily RP                     141\n",
      "Other Rel 18+ never marr RP of subfamily             102\n",
      "Child <18 never marr RP of subfamily                  81\n",
      "Spouse of RP of unrelated subfamily                   50\n",
      "Grandchild 18+ ever marr not in subfamily             32\n",
      "Child <18 ever marr not in subfamily                  30\n",
      "Grandchild 18+ spouse of subfamily RP                 12\n",
      "Child <18 ever marr RP of subfamily                   12\n",
      "Grandchild 18+ ever marr RP of subfamily              12\n",
      "Other Rel <18 ever marr RP of subfamily                7\n",
      "Other Rel <18 spouse of subfamily RP                   5\n",
      "Grandchild <18 never marr RP of subfamily              3\n",
      "Other Rel <18 never married RP of subfamily            3\n",
      "Other Rel <18 ever marr not in subfamily               3\n",
      "Name: d_household_family_stat, dtype: int64\n",
      "Householder                             76986\n",
      "Child under 18 never married            49697\n",
      "Spouse of householder                   41585\n",
      "Child 18 or older                       14444\n",
      "Other relative of householder            9531\n",
      "Nonrelative of householder               7590\n",
      "Group Quarters- Secondary individual      123\n",
      "Child under 18 ever married                44\n",
      "Name: d_household_summary, dtype: int64\n",
      "Not in universe under 1 year old    101465\n",
      "Yes                                  82834\n",
      "No                                   15701\n",
      "Name: live_1_year_ago, dtype: int64\n",
      "0    94816\n",
      "6    37372\n",
      "1    23567\n",
      "4    14397\n",
      "3    13610\n",
      "2    10217\n",
      "5     6021\n",
      "Name: num_person_Worked_employer, dtype: int64\n",
      "Not in universe           145583\n",
      "Both parents present       38418\n",
      "Mother only present        12551\n",
      "Father only present         1815\n",
      "Neither parent present      1633\n",
      "Name: family_members_under_18, dtype: int64\n",
      "United-States                   166260\n",
      "Mexico                            9924\n",
      "Puerto-Rico                       2623\n",
      "Italy                             2217\n",
      "Canada                            1362\n",
      "Germany                           1360\n",
      "Dominican-Republic                1297\n",
      "Poland                            1236\n",
      "Philippines                       1188\n",
      "Cuba                              1132\n",
      "El-Salvador                        981\n",
      "China                              837\n",
      "England                            801\n",
      "Columbia                           601\n",
      "India                              594\n",
      "Ireland                            548\n",
      "South Korea                        529\n",
      "Jamaica                            487\n",
      "Guatemala                          456\n",
      "Vietnam                            446\n",
      "Japan                              410\n",
      "Portugal                           394\n",
      "Ecuador                            386\n",
      "Greece                             377\n",
      "Haiti                              335\n",
      "Nicaragua                          321\n",
      "Peru                               321\n",
      "Hungary                            315\n",
      "Scotland                           257\n",
      "Yugoslavia                         232\n",
      "Iran                               227\n",
      "Cambodia                           212\n",
      "Honduras                           210\n",
      "France                             193\n",
      "Taiwan                             190\n",
      "Laos                               163\n",
      "Outlying-U S (Guam USVI etc)       155\n",
      "Trinadad&Tobago                    131\n",
      "Hong Kong                          115\n",
      "Thailand                           103\n",
      "Holand-Netherlands                  48\n",
      "Panama                              26\n",
      "Name: country_father, dtype: int64\n",
      "United-States                   166992\n",
      "Mexico                            9725\n",
      "Puerto-Rico                       2431\n",
      "Italy                             1834\n",
      "Canada                            1450\n",
      "Germany                           1386\n",
      "Philippines                       1272\n",
      "Poland                            1136\n",
      "Cuba                              1129\n",
      "Dominican-Republic                1091\n",
      "El-Salvador                       1050\n",
      "England                            901\n",
      "China                              756\n",
      "Ireland                            627\n",
      "South Korea                        621\n",
      "Columbia                           598\n",
      "India                              597\n",
      "Japan                              498\n",
      "Jamaica                            488\n",
      "Vietnam                            465\n",
      "Guatemala                          449\n",
      "Ecuador                            391\n",
      "Peru                               353\n",
      "Portugal                           347\n",
      "Haiti                              334\n",
      "Nicaragua                          317\n",
      "Hungary                            296\n",
      "Greece                             286\n",
      "Scotland                           245\n",
      "Honduras                           229\n",
      "Taiwan                             219\n",
      "France                             199\n",
      "Iran                               197\n",
      "Yugoslavia                         190\n",
      "Cambodia                           174\n",
      "Laos                               156\n",
      "Outlying-U S (Guam USVI etc)       154\n",
      "Thailand                           122\n",
      "Hong Kong                          113\n",
      "Trinadad&Tobago                    109\n",
      "Holand-Netherlands                  44\n",
      "Panama                              29\n",
      "Name: country_mother, dtype: int64\n",
      "United-States                   180869\n",
      "Mexico                            5706\n",
      "Puerto-Rico                       1391\n",
      "Philippines                        889\n",
      "Germany                            858\n",
      "Cuba                               828\n",
      "Canada                             714\n",
      "Dominican-Republic                 674\n",
      "El-Salvador                        673\n",
      "South Korea                        482\n",
      "China                              472\n",
      "England                            456\n",
      "Italy                              436\n",
      "Columbia                           430\n",
      "India                              426\n",
      "Vietnam                            378\n",
      "Poland                             368\n",
      "Japan                              348\n",
      "Jamaica                            345\n",
      "Guatemala                          328\n",
      "Ecuador                            264\n",
      "Peru                               254\n",
      "Nicaragua                          222\n",
      "Haiti                              217\n",
      "Taiwan                             194\n",
      "Portugal                           175\n",
      "Honduras                           159\n",
      "Iran                               158\n",
      "Greece                             149\n",
      "Ireland                            130\n",
      "Outlying-U S (Guam USVI etc)       115\n",
      "France                             115\n",
      "Hong Kong                          111\n",
      "Thailand                           110\n",
      "Laos                               104\n",
      "Cambodia                           103\n",
      "Yugoslavia                          77\n",
      "Trinadad&Tobago                     77\n",
      "Scotland                            75\n",
      "Hungary                             68\n",
      "Panama                              27\n",
      "Holand-Netherlands                  25\n",
      "Name: country_self, dtype: int64\n",
      "Native- Born in the United States              177378\n",
      "Foreign born- Not a citizen of U S              13316\n",
      "Foreign born- U S citizen by naturalization      5988\n",
      "Native- Born abroad of American Parent(s)        1812\n",
      "Native- Born in Puerto Rico or U S Outlying      1506\n",
      "Name: citizenship, dtype: int64\n",
      "0    180796\n",
      "2     16395\n",
      "1      2809\n",
      "Name: business_or_self_employed, dtype: int64\n",
      "2    151254\n",
      "0     46682\n",
      "1      2064\n",
      "Name: veterans_benefits, dtype: int64\n",
      "0     94816\n",
      "52    71707\n",
      "40     2736\n",
      "50     2363\n",
      "26     2226\n",
      "48     1929\n",
      "12     1778\n",
      "30     1417\n",
      "20     1363\n",
      "8      1123\n",
      "36     1106\n",
      "16      920\n",
      "32      878\n",
      "44      872\n",
      "51      842\n",
      "24      785\n",
      "4       756\n",
      "35      704\n",
      "10      697\n",
      "46      688\n",
      "45      656\n",
      "6       642\n",
      "42      596\n",
      "39      581\n",
      "28      559\n",
      "49      555\n",
      "13      517\n",
      "25      470\n",
      "1       458\n",
      "2       446\n",
      "3       430\n",
      "38      385\n",
      "22      380\n",
      "15      372\n",
      "43      359\n",
      "17      335\n",
      "18      281\n",
      "5       278\n",
      "47      277\n",
      "14      272\n",
      "9       238\n",
      "34      235\n",
      "7       138\n",
      "37      134\n",
      "21      131\n",
      "41       89\n",
      "27       83\n",
      "33       79\n",
      "11       73\n",
      "23       73\n",
      "29       64\n",
      "31       58\n",
      "19       50\n",
      "Name: weeks_worked_in_year, dtype: int64\n",
      "Not in universe    197936\n",
      "No                   1671\n",
      "Yes                   393\n",
      "Name: fill_questionnaire_veteran_admin, dtype: int64\n",
      "94    100040\n",
      "95     99960\n",
      "Name: year, dtype: int64\n"
     ]
    }
   ],
   "source": [
    "for j in cat_col[:-1]:\n",
    "    print(census_data[j].value_counts())"
   ]
  },
  {
   "cell_type": "code",
   "execution_count": 30,
   "metadata": {},
   "outputs": [
    {
     "data": {
      "text/plain": [
       "['class_of_worker',\n",
       " 'industry_code',\n",
       " 'occupation_code',\n",
       " 'education',\n",
       " 'enrolled_in_edu_inst_lastwk',\n",
       " 'marital_status',\n",
       " 'major_industry_code',\n",
       " 'major_occupation_code',\n",
       " 'race',\n",
       " 'hispanic_origin',\n",
       " 'sex',\n",
       " 'member_of_labor_union',\n",
       " 'reason_for_unemployment',\n",
       " 'full_parttime_employment_stat',\n",
       " 'tax_filer_status',\n",
       " 'region_of_previous_residence',\n",
       " 'state_of_previous_residence',\n",
       " 'd_household_family_stat',\n",
       " 'd_household_summary',\n",
       " 'live_1_year_ago',\n",
       " 'num_person_Worked_employer',\n",
       " 'family_members_under_18',\n",
       " 'country_father',\n",
       " 'country_mother',\n",
       " 'country_self',\n",
       " 'citizenship',\n",
       " 'business_or_self_employed',\n",
       " 'veterans_benefits',\n",
       " 'weeks_worked_in_year',\n",
       " 'fill_questionnaire_veteran_admin',\n",
       " 'year',\n",
       " 'income_level']"
      ]
     },
     "execution_count": 30,
     "metadata": {},
     "output_type": "execute_result"
    }
   ],
   "source": [
    "cat_col"
   ]
  },
  {
   "cell_type": "code",
   "execution_count": 31,
   "metadata": {},
   "outputs": [],
   "source": [
    "num_col = []\n",
    "for i in census_data.columns:\n",
    "    if i in cat_col:\n",
    "        pass\n",
    "    else:\n",
    "        num_col.append(i)"
   ]
  },
  {
   "cell_type": "code",
   "execution_count": 32,
   "metadata": {},
   "outputs": [
    {
     "data": {
      "text/plain": [
       "['age',\n",
       " 'wage_per_hour',\n",
       " 'capital_gains',\n",
       " 'capital_losses',\n",
       " 'dividend_from_Stocks']"
      ]
     },
     "execution_count": 32,
     "metadata": {},
     "output_type": "execute_result"
    }
   ],
   "source": [
    "num_col"
   ]
  },
  {
   "cell_type": "code",
   "execution_count": 33,
   "metadata": {},
   "outputs": [
    {
     "data": {
      "text/plain": [
       "32"
      ]
     },
     "execution_count": 33,
     "metadata": {},
     "output_type": "execute_result"
    }
   ],
   "source": [
    "len(cat_col)"
   ]
  },
  {
   "cell_type": "code",
   "execution_count": 35,
   "metadata": {},
   "outputs": [
    {
     "data": {
      "text/plain": [
       "(200000, 37)"
      ]
     },
     "execution_count": 35,
     "metadata": {},
     "output_type": "execute_result"
    }
   ],
   "source": [
    "census_data.shape"
   ]
  },
  {
   "cell_type": "code",
   "execution_count": 36,
   "metadata": {},
   "outputs": [
    {
     "data": {
      "text/plain": [
       "Index(['age', 'class_of_worker', 'industry_code', 'occupation_code',\n",
       "       'education', 'wage_per_hour', 'enrolled_in_edu_inst_lastwk',\n",
       "       'marital_status', 'major_industry_code', 'major_occupation_code',\n",
       "       'race', 'hispanic_origin', 'sex', 'member_of_labor_union',\n",
       "       'reason_for_unemployment', 'full_parttime_employment_stat',\n",
       "       'capital_gains', 'capital_losses', 'dividend_from_Stocks',\n",
       "       'tax_filer_status', 'region_of_previous_residence',\n",
       "       'state_of_previous_residence', 'd_household_family_stat',\n",
       "       'd_household_summary', 'live_1_year_ago', 'num_person_Worked_employer',\n",
       "       'family_members_under_18', 'country_father', 'country_mother',\n",
       "       'country_self', 'citizenship', 'business_or_self_employed',\n",
       "       'fill_questionnaire_veteran_admin', 'veterans_benefits',\n",
       "       'weeks_worked_in_year', 'year', 'income_level'],\n",
       "      dtype='object')"
      ]
     },
     "execution_count": 36,
     "metadata": {},
     "output_type": "execute_result"
    }
   ],
   "source": [
    "census_data.columns"
   ]
  },
  {
   "cell_type": "code",
   "execution_count": 38,
   "metadata": {},
   "outputs": [
    {
     "data": {
      "text/plain": [
       "35"
      ]
     },
     "execution_count": 38,
     "metadata": {},
     "output_type": "execute_result"
    }
   ],
   "source": [
    "census_eval['d_household_family_stat'].nunique()"
   ]
  },
  {
   "cell_type": "code",
   "execution_count": 39,
   "metadata": {},
   "outputs": [
    {
     "data": {
      "text/plain": [
       "Householder                                        54582\n",
       "Child <18 never marr not in subfamily              49592\n",
       "Spouse of householder                              41574\n",
       "Nonfamily householder                              22393\n",
       "Child 18+ never marr Not in a subfamily            12052\n",
       "Secondary individual                                6129\n",
       "Other Rel 18+ ever marr not in subfamily            1957\n",
       "Grandchild <18 never marr child of subfamily RP     1773\n",
       "Other Rel 18+ never marr not in subfamily           1691\n",
       "Grandchild <18 never marr not in subfamily          1024\n",
       "Child 18+ ever marr Not in a subfamily               994\n",
       "Child under 18 of RP of unrel subfamily              726\n",
       "Child 18+ ever marr RP of subfamily                  684\n",
       "RP of unrelated subfamily                            676\n",
       "Other Rel 18+ spouse of subfamily RP                 648\n",
       "Other Rel <18 never marr child of subfamily RP       639\n",
       "Other Rel 18+ ever marr RP of subfamily              624\n",
       "Other Rel <18 never marr not in subfamily            606\n",
       "Child 18+ never marr RP of subfamily                 572\n",
       "Grandchild 18+ never marr not in subfamily           385\n",
       "In group quarters                                    186\n",
       "Child 18+ spouse of subfamily RP                     141\n",
       "Other Rel 18+ never marr RP of subfamily             102\n",
       "Child <18 never marr RP of subfamily                  81\n",
       "Spouse of RP of unrelated subfamily                   50\n",
       "Grandchild 18+ ever marr not in subfamily             32\n",
       "Child <18 ever marr not in subfamily                  30\n",
       "Grandchild 18+ spouse of subfamily RP                 12\n",
       "Child <18 ever marr RP of subfamily                   12\n",
       "Grandchild 18+ ever marr RP of subfamily              12\n",
       "Other Rel <18 ever marr RP of subfamily                7\n",
       "Other Rel <18 spouse of subfamily RP                   5\n",
       "Grandchild <18 never marr RP of subfamily              3\n",
       "Other Rel <18 never married RP of subfamily            3\n",
       "Other Rel <18 ever marr not in subfamily               3\n",
       "Name: d_household_family_stat, dtype: int64"
      ]
     },
     "execution_count": 39,
     "metadata": {},
     "output_type": "execute_result"
    }
   ],
   "source": [
    "census_data['d_household_family_stat'].value_counts()"
   ]
  },
  {
   "cell_type": "markdown",
   "metadata": {},
   "source": [
    "# Model Evaluation for Trained census data"
   ]
  },
  {
   "cell_type": "code",
   "execution_count": 40,
   "metadata": {},
   "outputs": [],
   "source": [
    "from sklearn.preprocessing import LabelEncoder\n",
    "from sklearn import preprocessing\n",
    "X_1 = census_data.iloc[:,0:-1]"
   ]
  },
  {
   "cell_type": "code",
   "execution_count": 41,
   "metadata": {},
   "outputs": [],
   "source": [
    "names = num_col\n",
    "# Create the Scaler object\n",
    "scaler = preprocessing.StandardScaler()\n",
    "# Fit your data on the scaler object\n",
    "scaled_df = scaler.fit_transform(X_1[names])\n",
    "scaled_data = pd.DataFrame(scaled_df, columns=names)"
   ]
  },
  {
   "cell_type": "markdown",
   "metadata": {},
   "source": [
    "Coudn't find much correlation, Hence, PCA Optional for this dataset"
   ]
  },
  {
   "cell_type": "code",
   "execution_count": 1,
   "metadata": {},
   "outputs": [],
   "source": [
    "#from sklearn.decomposition import PCA\n",
    "#pca = PCA(n_components=2)\n",
    "#principalComponents = pca.fit_transform(scaled_data)\n",
    "#principalDf = pd.DataFrame(data = principalComponents, columns = ['principal component 1', 'principal component 2'])"
   ]
  },
  {
   "cell_type": "code",
   "execution_count": 2,
   "metadata": {},
   "outputs": [
    {
     "ename": "NameError",
     "evalue": "name 'num_col' is not defined",
     "output_type": "error",
     "traceback": [
      "\u001b[1;31m---------------------------------------------------------------------------\u001b[0m",
      "\u001b[1;31mNameError\u001b[0m                                 Traceback (most recent call last)",
      "\u001b[1;32m<ipython-input-2-6c7b70be8222>\u001b[0m in \u001b[0;36m<module>\u001b[1;34m\u001b[0m\n\u001b[1;32m----> 1\u001b[1;33m \u001b[0mnum_col\u001b[0m\u001b[1;33m\u001b[0m\u001b[1;33m\u001b[0m\u001b[0m\n\u001b[0m",
      "\u001b[1;31mNameError\u001b[0m: name 'num_col' is not defined"
     ]
    }
   ],
   "source": [
    "num_col"
   ]
  },
  {
   "cell_type": "code",
   "execution_count": 3,
   "metadata": {},
   "outputs": [
    {
     "ename": "NameError",
     "evalue": "name 'census_data' is not defined",
     "output_type": "error",
     "traceback": [
      "\u001b[1;31m---------------------------------------------------------------------------\u001b[0m",
      "\u001b[1;31mNameError\u001b[0m                                 Traceback (most recent call last)",
      "\u001b[1;32m<ipython-input-3-2bcc260d7be7>\u001b[0m in \u001b[0;36m<module>\u001b[1;34m\u001b[0m\n\u001b[1;32m----> 1\u001b[1;33m \u001b[0mcat_col_df\u001b[0m \u001b[1;33m=\u001b[0m \u001b[0mcensus_data\u001b[0m\u001b[1;33m[\u001b[0m\u001b[0mcat_col\u001b[0m\u001b[1;33m]\u001b[0m \u001b[1;31m#spare for census_data for one hot encoding\u001b[0m\u001b[1;33m\u001b[0m\u001b[1;33m\u001b[0m\u001b[0m\n\u001b[0m",
      "\u001b[1;31mNameError\u001b[0m: name 'census_data' is not defined"
     ]
    }
   ],
   "source": [
    "cat_col_df = census_data[cat_col] #spare for census_data for one hot encoding"
   ]
  },
  {
   "cell_type": "code",
   "execution_count": 4,
   "metadata": {},
   "outputs": [
    {
     "ename": "NameError",
     "evalue": "name 'cat_col_df' is not defined",
     "output_type": "error",
     "traceback": [
      "\u001b[1;31m---------------------------------------------------------------------------\u001b[0m",
      "\u001b[1;31mNameError\u001b[0m                                 Traceback (most recent call last)",
      "\u001b[1;32m<ipython-input-4-563363555226>\u001b[0m in \u001b[0;36m<module>\u001b[1;34m\u001b[0m\n\u001b[1;32m----> 1\u001b[1;33m \u001b[0mcat_col_df\u001b[0m\u001b[1;33m.\u001b[0m\u001b[0mshape\u001b[0m\u001b[1;33m\u001b[0m\u001b[1;33m\u001b[0m\u001b[0m\n\u001b[0m",
      "\u001b[1;31mNameError\u001b[0m: name 'cat_col_df' is not defined"
     ]
    }
   ],
   "source": [
    "cat_col_df.shape"
   ]
  },
  {
   "cell_type": "code",
   "execution_count": 46,
   "metadata": {},
   "outputs": [
    {
     "data": {
      "text/plain": [
       "Index(['class_of_worker', 'industry_code', 'occupation_code', 'education',\n",
       "       'enrolled_in_edu_inst_lastwk', 'marital_status', 'major_industry_code',\n",
       "       'major_occupation_code', 'race', 'hispanic_origin', 'sex',\n",
       "       'member_of_labor_union', 'reason_for_unemployment',\n",
       "       'full_parttime_employment_stat', 'tax_filer_status',\n",
       "       'region_of_previous_residence', 'state_of_previous_residence',\n",
       "       'd_household_family_stat', 'd_household_summary', 'live_1_year_ago',\n",
       "       'num_person_Worked_employer', 'family_members_under_18',\n",
       "       'country_father', 'country_mother', 'country_self', 'citizenship',\n",
       "       'business_or_self_employed', 'veterans_benefits',\n",
       "       'weeks_worked_in_year', 'fill_questionnaire_veteran_admin', 'year',\n",
       "       'income_level'],\n",
       "      dtype='object')"
      ]
     },
     "execution_count": 46,
     "metadata": {},
     "output_type": "execute_result"
    }
   ],
   "source": [
    "cat_col_df.columns"
   ]
  },
  {
   "cell_type": "code",
   "execution_count": 47,
   "metadata": {},
   "outputs": [],
   "source": [
    "cat_col_df_2 = cat_col_df[:] #spare for cat_col_df"
   ]
  },
  {
   "cell_type": "code",
   "execution_count": 50,
   "metadata": {},
   "outputs": [],
   "source": [
    "cat_col_df_2 = pd.concat([cat_col_df_2, scaled_data], axis=1)"
   ]
  },
  {
   "cell_type": "code",
   "execution_count": 51,
   "metadata": {},
   "outputs": [
    {
     "data": {
      "text/plain": [
       "(200000, 37)"
      ]
     },
     "execution_count": 51,
     "metadata": {},
     "output_type": "execute_result"
    }
   ],
   "source": [
    "cat_col_df_2.shape"
   ]
  },
  {
   "cell_type": "code",
   "execution_count": 52,
   "metadata": {},
   "outputs": [
    {
     "data": {
      "text/html": [
       "<div>\n",
       "<style scoped>\n",
       "    .dataframe tbody tr th:only-of-type {\n",
       "        vertical-align: middle;\n",
       "    }\n",
       "\n",
       "    .dataframe tbody tr th {\n",
       "        vertical-align: top;\n",
       "    }\n",
       "\n",
       "    .dataframe thead th {\n",
       "        text-align: right;\n",
       "    }\n",
       "</style>\n",
       "<table border=\"1\" class=\"dataframe\">\n",
       "  <thead>\n",
       "    <tr style=\"text-align: right;\">\n",
       "      <th></th>\n",
       "      <th>class_of_worker</th>\n",
       "      <th>industry_code</th>\n",
       "      <th>occupation_code</th>\n",
       "      <th>education</th>\n",
       "      <th>enrolled_in_edu_inst_lastwk</th>\n",
       "      <th>marital_status</th>\n",
       "      <th>major_industry_code</th>\n",
       "      <th>major_occupation_code</th>\n",
       "      <th>race</th>\n",
       "      <th>hispanic_origin</th>\n",
       "      <th>sex</th>\n",
       "      <th>member_of_labor_union</th>\n",
       "      <th>reason_for_unemployment</th>\n",
       "      <th>full_parttime_employment_stat</th>\n",
       "      <th>tax_filer_status</th>\n",
       "      <th>region_of_previous_residence</th>\n",
       "      <th>state_of_previous_residence</th>\n",
       "      <th>d_household_family_stat</th>\n",
       "      <th>d_household_summary</th>\n",
       "      <th>live_1_year_ago</th>\n",
       "      <th>num_person_Worked_employer</th>\n",
       "      <th>family_members_under_18</th>\n",
       "      <th>country_father</th>\n",
       "      <th>country_mother</th>\n",
       "      <th>country_self</th>\n",
       "      <th>citizenship</th>\n",
       "      <th>business_or_self_employed</th>\n",
       "      <th>veterans_benefits</th>\n",
       "      <th>weeks_worked_in_year</th>\n",
       "      <th>fill_questionnaire_veteran_admin</th>\n",
       "      <th>year</th>\n",
       "      <th>income_level</th>\n",
       "      <th>age</th>\n",
       "      <th>wage_per_hour</th>\n",
       "      <th>capital_gains</th>\n",
       "      <th>capital_losses</th>\n",
       "      <th>dividend_from_Stocks</th>\n",
       "    </tr>\n",
       "  </thead>\n",
       "  <tbody>\n",
       "    <tr>\n",
       "      <th>0</th>\n",
       "      <td>Private</td>\n",
       "      <td>43</td>\n",
       "      <td>22</td>\n",
       "      <td>Some college but no degree</td>\n",
       "      <td>College or university</td>\n",
       "      <td>Never married</td>\n",
       "      <td>Education</td>\n",
       "      <td>Adm support including clerical</td>\n",
       "      <td>White</td>\n",
       "      <td>All other</td>\n",
       "      <td>Male</td>\n",
       "      <td>Not in universe</td>\n",
       "      <td>Not in universe</td>\n",
       "      <td>Full-time schedules</td>\n",
       "      <td>Single</td>\n",
       "      <td>Not in universe</td>\n",
       "      <td>Not in universe</td>\n",
       "      <td>Child 18+ never marr Not in a subfamily</td>\n",
       "      <td>Child 18 or older</td>\n",
       "      <td>Not in universe under 1 year old</td>\n",
       "      <td>4</td>\n",
       "      <td>Not in universe</td>\n",
       "      <td>Peru</td>\n",
       "      <td>Peru</td>\n",
       "      <td>United-States</td>\n",
       "      <td>Native- Born in the United States</td>\n",
       "      <td>0</td>\n",
       "      <td>2</td>\n",
       "      <td>30</td>\n",
       "      <td>Not in universe</td>\n",
       "      <td>95</td>\n",
       "      <td>0</td>\n",
       "      <td>-0.524730</td>\n",
       "      <td>-0.201577</td>\n",
       "      <td>-0.09659</td>\n",
       "      <td>-0.140071</td>\n",
       "      <td>-0.103258</td>\n",
       "    </tr>\n",
       "    <tr>\n",
       "      <th>1</th>\n",
       "      <td>Private</td>\n",
       "      <td>34</td>\n",
       "      <td>2</td>\n",
       "      <td>Bachelors degree(BA AB BS)</td>\n",
       "      <td>Not in universe</td>\n",
       "      <td>Never married</td>\n",
       "      <td>Finance insurance and real estate</td>\n",
       "      <td>Executive admin and managerial</td>\n",
       "      <td>White</td>\n",
       "      <td>All other</td>\n",
       "      <td>Male</td>\n",
       "      <td>No</td>\n",
       "      <td>Not in universe</td>\n",
       "      <td>Children or Armed Forces</td>\n",
       "      <td>Single</td>\n",
       "      <td>West</td>\n",
       "      <td>California</td>\n",
       "      <td>Nonfamily householder</td>\n",
       "      <td>Householder</td>\n",
       "      <td>No</td>\n",
       "      <td>4</td>\n",
       "      <td>Not in universe</td>\n",
       "      <td>United-States</td>\n",
       "      <td>United-States</td>\n",
       "      <td>United-States</td>\n",
       "      <td>Native- Born in the United States</td>\n",
       "      <td>0</td>\n",
       "      <td>2</td>\n",
       "      <td>26</td>\n",
       "      <td>Not in universe</td>\n",
       "      <td>94</td>\n",
       "      <td>0</td>\n",
       "      <td>-0.479737</td>\n",
       "      <td>-0.201577</td>\n",
       "      <td>-0.09659</td>\n",
       "      <td>-0.140071</td>\n",
       "      <td>-0.103258</td>\n",
       "    </tr>\n",
       "    <tr>\n",
       "      <th>2</th>\n",
       "      <td>Private</td>\n",
       "      <td>34</td>\n",
       "      <td>2</td>\n",
       "      <td>Masters degree(MA MS MEng MEd MSW MBA)</td>\n",
       "      <td>Not in universe</td>\n",
       "      <td>Married-civilian spouse present</td>\n",
       "      <td>Finance insurance and real estate</td>\n",
       "      <td>Executive admin and managerial</td>\n",
       "      <td>White</td>\n",
       "      <td>All other</td>\n",
       "      <td>Male</td>\n",
       "      <td>Not in universe</td>\n",
       "      <td>Not in universe</td>\n",
       "      <td>Children or Armed Forces</td>\n",
       "      <td>Joint both under 65</td>\n",
       "      <td>Not in universe</td>\n",
       "      <td>Not in universe</td>\n",
       "      <td>Householder</td>\n",
       "      <td>Householder</td>\n",
       "      <td>Yes</td>\n",
       "      <td>4</td>\n",
       "      <td>Not in universe</td>\n",
       "      <td>United-States</td>\n",
       "      <td>United-States</td>\n",
       "      <td>United-States</td>\n",
       "      <td>Native- Born in the United States</td>\n",
       "      <td>0</td>\n",
       "      <td>2</td>\n",
       "      <td>52</td>\n",
       "      <td>Not in universe</td>\n",
       "      <td>94</td>\n",
       "      <td>1</td>\n",
       "      <td>0.150164</td>\n",
       "      <td>-0.201577</td>\n",
       "      <td>-0.09659</td>\n",
       "      <td>-0.140071</td>\n",
       "      <td>0.017949</td>\n",
       "    </tr>\n",
       "    <tr>\n",
       "      <th>3</th>\n",
       "      <td>Not in universe</td>\n",
       "      <td>0</td>\n",
       "      <td>0</td>\n",
       "      <td>High school graduate</td>\n",
       "      <td>Not in universe</td>\n",
       "      <td>Married-civilian spouse present</td>\n",
       "      <td>Not in universe or children</td>\n",
       "      <td>Not in universe</td>\n",
       "      <td>White</td>\n",
       "      <td>All other</td>\n",
       "      <td>Female</td>\n",
       "      <td>Not in universe</td>\n",
       "      <td>Not in universe</td>\n",
       "      <td>Not in labor force</td>\n",
       "      <td>Joint both under 65</td>\n",
       "      <td>Not in universe</td>\n",
       "      <td>Not in universe</td>\n",
       "      <td>Child 18+ ever marr RP of subfamily</td>\n",
       "      <td>Child 18 or older</td>\n",
       "      <td>Not in universe under 1 year old</td>\n",
       "      <td>0</td>\n",
       "      <td>Not in universe</td>\n",
       "      <td>United-States</td>\n",
       "      <td>United-States</td>\n",
       "      <td>United-States</td>\n",
       "      <td>Native- Born in the United States</td>\n",
       "      <td>0</td>\n",
       "      <td>2</td>\n",
       "      <td>0</td>\n",
       "      <td>Not in universe</td>\n",
       "      <td>95</td>\n",
       "      <td>0</td>\n",
       "      <td>-0.074801</td>\n",
       "      <td>-0.201577</td>\n",
       "      <td>-0.09659</td>\n",
       "      <td>-0.140071</td>\n",
       "      <td>-0.103258</td>\n",
       "    </tr>\n",
       "    <tr>\n",
       "      <th>4</th>\n",
       "      <td>Not in universe</td>\n",
       "      <td>0</td>\n",
       "      <td>0</td>\n",
       "      <td>Children</td>\n",
       "      <td>Not in universe</td>\n",
       "      <td>Never married</td>\n",
       "      <td>Not in universe or children</td>\n",
       "      <td>Not in universe</td>\n",
       "      <td>White</td>\n",
       "      <td>All other</td>\n",
       "      <td>Male</td>\n",
       "      <td>Not in universe</td>\n",
       "      <td>Not in universe</td>\n",
       "      <td>Children or Armed Forces</td>\n",
       "      <td>Nonfiler</td>\n",
       "      <td>Not in universe</td>\n",
       "      <td>Not in universe</td>\n",
       "      <td>Child &lt;18 never marr not in subfamily</td>\n",
       "      <td>Child under 18 never married</td>\n",
       "      <td>Not in universe under 1 year old</td>\n",
       "      <td>0</td>\n",
       "      <td>Both parents present</td>\n",
       "      <td>United-States</td>\n",
       "      <td>United-States</td>\n",
       "      <td>United-States</td>\n",
       "      <td>Native- Born in the United States</td>\n",
       "      <td>0</td>\n",
       "      <td>0</td>\n",
       "      <td>0</td>\n",
       "      <td>Not in universe</td>\n",
       "      <td>95</td>\n",
       "      <td>0</td>\n",
       "      <td>-0.974659</td>\n",
       "      <td>-0.201577</td>\n",
       "      <td>-0.09659</td>\n",
       "      <td>-0.140071</td>\n",
       "      <td>-0.103258</td>\n",
       "    </tr>\n",
       "  </tbody>\n",
       "</table>\n",
       "</div>"
      ],
      "text/plain": [
       "   class_of_worker  industry_code  occupation_code  \\\n",
       "0          Private             43               22   \n",
       "1          Private             34                2   \n",
       "2          Private             34                2   \n",
       "3  Not in universe              0                0   \n",
       "4  Not in universe              0                0   \n",
       "\n",
       "                                education enrolled_in_edu_inst_lastwk  \\\n",
       "0              Some college but no degree       College or university   \n",
       "1              Bachelors degree(BA AB BS)             Not in universe   \n",
       "2  Masters degree(MA MS MEng MEd MSW MBA)             Not in universe   \n",
       "3                    High school graduate             Not in universe   \n",
       "4                                Children             Not in universe   \n",
       "\n",
       "                    marital_status                major_industry_code  \\\n",
       "0                    Never married                          Education   \n",
       "1                    Never married  Finance insurance and real estate   \n",
       "2  Married-civilian spouse present  Finance insurance and real estate   \n",
       "3  Married-civilian spouse present        Not in universe or children   \n",
       "4                    Never married        Not in universe or children   \n",
       "\n",
       "            major_occupation_code   race hispanic_origin     sex  \\\n",
       "0  Adm support including clerical  White       All other    Male   \n",
       "1  Executive admin and managerial  White       All other    Male   \n",
       "2  Executive admin and managerial  White       All other    Male   \n",
       "3                 Not in universe  White       All other  Female   \n",
       "4                 Not in universe  White       All other    Male   \n",
       "\n",
       "  member_of_labor_union reason_for_unemployment full_parttime_employment_stat  \\\n",
       "0       Not in universe         Not in universe           Full-time schedules   \n",
       "1                    No         Not in universe      Children or Armed Forces   \n",
       "2       Not in universe         Not in universe      Children or Armed Forces   \n",
       "3       Not in universe         Not in universe            Not in labor force   \n",
       "4       Not in universe         Not in universe      Children or Armed Forces   \n",
       "\n",
       "      tax_filer_status region_of_previous_residence  \\\n",
       "0               Single              Not in universe   \n",
       "1               Single                         West   \n",
       "2  Joint both under 65              Not in universe   \n",
       "3  Joint both under 65              Not in universe   \n",
       "4             Nonfiler              Not in universe   \n",
       "\n",
       "  state_of_previous_residence                  d_household_family_stat  \\\n",
       "0             Not in universe  Child 18+ never marr Not in a subfamily   \n",
       "1                  California                    Nonfamily householder   \n",
       "2             Not in universe                              Householder   \n",
       "3             Not in universe      Child 18+ ever marr RP of subfamily   \n",
       "4             Not in universe    Child <18 never marr not in subfamily   \n",
       "\n",
       "            d_household_summary                   live_1_year_ago  \\\n",
       "0             Child 18 or older  Not in universe under 1 year old   \n",
       "1                   Householder                                No   \n",
       "2                   Householder                               Yes   \n",
       "3             Child 18 or older  Not in universe under 1 year old   \n",
       "4  Child under 18 never married  Not in universe under 1 year old   \n",
       "\n",
       "   num_person_Worked_employer family_members_under_18 country_father  \\\n",
       "0                           4         Not in universe           Peru   \n",
       "1                           4         Not in universe  United-States   \n",
       "2                           4         Not in universe  United-States   \n",
       "3                           0         Not in universe  United-States   \n",
       "4                           0    Both parents present  United-States   \n",
       "\n",
       "  country_mother   country_self                        citizenship  \\\n",
       "0           Peru  United-States  Native- Born in the United States   \n",
       "1  United-States  United-States  Native- Born in the United States   \n",
       "2  United-States  United-States  Native- Born in the United States   \n",
       "3  United-States  United-States  Native- Born in the United States   \n",
       "4  United-States  United-States  Native- Born in the United States   \n",
       "\n",
       "   business_or_self_employed  veterans_benefits  weeks_worked_in_year  \\\n",
       "0                          0                  2                    30   \n",
       "1                          0                  2                    26   \n",
       "2                          0                  2                    52   \n",
       "3                          0                  2                     0   \n",
       "4                          0                  0                     0   \n",
       "\n",
       "  fill_questionnaire_veteran_admin  year  income_level       age  \\\n",
       "0                  Not in universe    95             0 -0.524730   \n",
       "1                  Not in universe    94             0 -0.479737   \n",
       "2                  Not in universe    94             1  0.150164   \n",
       "3                  Not in universe    95             0 -0.074801   \n",
       "4                  Not in universe    95             0 -0.974659   \n",
       "\n",
       "   wage_per_hour  capital_gains  capital_losses  dividend_from_Stocks  \n",
       "0      -0.201577       -0.09659       -0.140071             -0.103258  \n",
       "1      -0.201577       -0.09659       -0.140071             -0.103258  \n",
       "2      -0.201577       -0.09659       -0.140071              0.017949  \n",
       "3      -0.201577       -0.09659       -0.140071             -0.103258  \n",
       "4      -0.201577       -0.09659       -0.140071             -0.103258  "
      ]
     },
     "execution_count": 52,
     "metadata": {},
     "output_type": "execute_result"
    }
   ],
   "source": [
    "cat_col_df_2.head()"
   ]
  },
  {
   "cell_type": "code",
   "execution_count": 53,
   "metadata": {},
   "outputs": [
    {
     "data": {
      "text/plain": [
       "37"
      ]
     },
     "execution_count": 53,
     "metadata": {},
     "output_type": "execute_result"
    }
   ],
   "source": [
    "len(cat_col_df_2.columns)"
   ]
  },
  {
   "cell_type": "code",
   "execution_count": 54,
   "metadata": {},
   "outputs": [
    {
     "data": {
      "text/plain": [
       "Index(['class_of_worker', 'industry_code', 'occupation_code', 'education',\n",
       "       'enrolled_in_edu_inst_lastwk', 'marital_status', 'major_industry_code',\n",
       "       'major_occupation_code', 'race', 'hispanic_origin', 'sex',\n",
       "       'member_of_labor_union', 'reason_for_unemployment',\n",
       "       'full_parttime_employment_stat', 'tax_filer_status',\n",
       "       'region_of_previous_residence', 'state_of_previous_residence',\n",
       "       'd_household_family_stat', 'd_household_summary', 'live_1_year_ago',\n",
       "       'num_person_Worked_employer', 'family_members_under_18',\n",
       "       'country_father', 'country_mother', 'country_self', 'citizenship',\n",
       "       'business_or_self_employed', 'veterans_benefits',\n",
       "       'weeks_worked_in_year', 'fill_questionnaire_veteran_admin', 'year',\n",
       "       'income_level', 'age', 'wage_per_hour', 'capital_gains',\n",
       "       'capital_losses', 'dividend_from_Stocks'],\n",
       "      dtype='object')"
      ]
     },
     "execution_count": 54,
     "metadata": {},
     "output_type": "execute_result"
    }
   ],
   "source": [
    "cat_col_df_2.columns"
   ]
  },
  {
   "cell_type": "code",
   "execution_count": 55,
   "metadata": {},
   "outputs": [
    {
     "data": {
      "text/plain": [
       "['class_of_worker',\n",
       " 'industry_code',\n",
       " 'occupation_code',\n",
       " 'education',\n",
       " 'enrolled_in_edu_inst_lastwk',\n",
       " 'marital_status',\n",
       " 'major_industry_code',\n",
       " 'major_occupation_code',\n",
       " 'race',\n",
       " 'hispanic_origin',\n",
       " 'sex',\n",
       " 'member_of_labor_union',\n",
       " 'reason_for_unemployment',\n",
       " 'full_parttime_employment_stat',\n",
       " 'tax_filer_status',\n",
       " 'region_of_previous_residence',\n",
       " 'state_of_previous_residence',\n",
       " 'd_household_family_stat',\n",
       " 'd_household_summary',\n",
       " 'live_1_year_ago',\n",
       " 'num_person_Worked_employer',\n",
       " 'family_members_under_18',\n",
       " 'country_father',\n",
       " 'country_mother',\n",
       " 'country_self',\n",
       " 'citizenship',\n",
       " 'business_or_self_employed',\n",
       " 'veterans_benefits',\n",
       " 'weeks_worked_in_year',\n",
       " 'fill_questionnaire_veteran_admin',\n",
       " 'year',\n",
       " 'income_level']"
      ]
     },
     "execution_count": 55,
     "metadata": {},
     "output_type": "execute_result"
    }
   ],
   "source": [
    "cat_col"
   ]
  },
  {
   "cell_type": "code",
   "execution_count": 56,
   "metadata": {},
   "outputs": [],
   "source": [
    "df_data = pd.DataFrame()\n",
    "for i in cat_col[:-1]:\n",
    "  a = pd.get_dummies(cat_col_df_2[i], prefix= i[:6])\n",
    "  #cat_col_df_2.drop(labels = [i], inplace = True)\n",
    "  df_data = pd.concat([df_data, a], axis=1)"
   ]
  },
  {
   "cell_type": "code",
   "execution_count": 57,
   "metadata": {},
   "outputs": [
    {
     "data": {
      "text/plain": [
       "(200000, 522)"
      ]
     },
     "execution_count": 57,
     "metadata": {},
     "output_type": "execute_result"
    }
   ],
   "source": [
    "df_data.shape"
   ]
  },
  {
   "cell_type": "code",
   "execution_count": 58,
   "metadata": {},
   "outputs": [],
   "source": [
    "cat_col_df_2.drop(labels = cat_col[:-1], inplace = True, axis = 1)"
   ]
  },
  {
   "cell_type": "code",
   "execution_count": 59,
   "metadata": {},
   "outputs": [
    {
     "data": {
      "text/plain": [
       "(200000, 6)"
      ]
     },
     "execution_count": 59,
     "metadata": {},
     "output_type": "execute_result"
    }
   ],
   "source": [
    "cat_col_df_2.shape"
   ]
  },
  {
   "cell_type": "markdown",
   "metadata": {},
   "source": [
    "# Applying model for trained-test census_data"
   ]
  },
  {
   "cell_type": "code",
   "execution_count": 60,
   "metadata": {},
   "outputs": [],
   "source": [
    "from sklearn.ensemble import AdaBoostClassifier\n",
    "from sklearn.tree import DecisionTreeClassifier\n",
    "\n",
    "from sklearn.model_selection import train_test_split\n",
    "from sklearn.metrics import confusion_matrix"
   ]
  },
  {
   "cell_type": "code",
   "execution_count": 61,
   "metadata": {},
   "outputs": [],
   "source": [
    "X = cat_col_df_2.iloc[:,1:]\n",
    "y = cat_col_df_2.iloc[:,0]"
   ]
  },
  {
   "cell_type": "code",
   "execution_count": 62,
   "metadata": {},
   "outputs": [],
   "source": [
    "train_X, test_X, train_y, test_y = train_test_split(X, y, random_state=1)"
   ]
  },
  {
   "cell_type": "code",
   "execution_count": 63,
   "metadata": {},
   "outputs": [
    {
     "data": {
      "text/plain": [
       "AdaBoostClassifier(algorithm='SAMME.R',\n",
       "                   base_estimator=DecisionTreeClassifier(ccp_alpha=0.0,\n",
       "                                                         class_weight=None,\n",
       "                                                         criterion='gini',\n",
       "                                                         max_depth=3,\n",
       "                                                         max_features=None,\n",
       "                                                         max_leaf_nodes=None,\n",
       "                                                         min_impurity_decrease=0.0,\n",
       "                                                         min_impurity_split=None,\n",
       "                                                         min_samples_leaf=1,\n",
       "                                                         min_samples_split=2,\n",
       "                                                         min_weight_fraction_leaf=0.0,\n",
       "                                                         presort='deprecated',\n",
       "                                                         random_state=None,\n",
       "                                                         splitter='best'),\n",
       "                   learning_rate=1.0, n_estimators=200, random_state=None)"
      ]
     },
     "execution_count": 63,
     "metadata": {},
     "output_type": "execute_result"
    }
   ],
   "source": [
    "classifier = AdaBoostClassifier(\n",
    "    DecisionTreeClassifier(max_depth=3),\n",
    "    n_estimators=200\n",
    ")\n",
    "classifier.fit(train_X, train_y)"
   ]
  },
  {
   "cell_type": "code",
   "execution_count": 64,
   "metadata": {},
   "outputs": [],
   "source": [
    "predictions = classifier.predict(test_X)"
   ]
  },
  {
   "cell_type": "code",
   "execution_count": 65,
   "metadata": {},
   "outputs": [
    {
     "data": {
      "text/plain": [
       "array([[45883,   353],\n",
       "       [ 2737,  1027]], dtype=int64)"
      ]
     },
     "execution_count": 65,
     "metadata": {},
     "output_type": "execute_result"
    }
   ],
   "source": [
    "confusion_matrix(test_y, predictions)"
   ]
  },
  {
   "cell_type": "code",
   "execution_count": 66,
   "metadata": {},
   "outputs": [
    {
     "data": {
      "text/plain": [
       "0.9246559202450244"
      ]
     },
     "execution_count": 66,
     "metadata": {},
     "output_type": "execute_result"
    }
   ],
   "source": [
    "from sklearn.metrics import f1_score\n",
    "\n",
    "y_true = test_y\n",
    "y_pred = predictions\n",
    "\n",
    "\n",
    "f1_score(y_true, y_pred, average='weighted')"
   ]
  },
  {
   "cell_type": "code",
   "execution_count": null,
   "metadata": {},
   "outputs": [],
   "source": []
  },
  {
   "cell_type": "markdown",
   "metadata": {},
   "source": [
    "# Model Evaluation for Evaluation census data - census_eval"
   ]
  },
  {
   "cell_type": "code",
   "execution_count": 67,
   "metadata": {},
   "outputs": [],
   "source": [
    "from sklearn.preprocessing import LabelEncoder\n",
    "from sklearn import preprocessing\n",
    "X_1_eval = census_eval.iloc[:,:]"
   ]
  },
  {
   "cell_type": "code",
   "execution_count": 68,
   "metadata": {},
   "outputs": [
    {
     "data": {
      "text/plain": [
       "(50000, 36)"
      ]
     },
     "execution_count": 68,
     "metadata": {},
     "output_type": "execute_result"
    }
   ],
   "source": [
    "X_1_eval.shape"
   ]
  },
  {
   "cell_type": "code",
   "execution_count": 69,
   "metadata": {},
   "outputs": [
    {
     "data": {
      "text/plain": [
       "['age',\n",
       " 'wage_per_hour',\n",
       " 'capital_gains',\n",
       " 'capital_losses',\n",
       " 'dividend_from_Stocks']"
      ]
     },
     "execution_count": 69,
     "metadata": {},
     "output_type": "execute_result"
    }
   ],
   "source": [
    "num_col"
   ]
  },
  {
   "cell_type": "code",
   "execution_count": 70,
   "metadata": {},
   "outputs": [],
   "source": [
    "names_eval = num_col\n",
    "# Create the Scaler object\n",
    "scaler_eval = preprocessing.StandardScaler()\n",
    "# Fit your data on the scaler object\n",
    "scaled_df_eval = scaler_eval.fit_transform(X_1_eval[names_eval])\n",
    "scaled_data_eval = pd.DataFrame(scaled_df, columns=names_eval)"
   ]
  },
  {
   "cell_type": "code",
   "execution_count": 71,
   "metadata": {},
   "outputs": [
    {
     "data": {
      "text/plain": [
       "(200000, 5)"
      ]
     },
     "execution_count": 71,
     "metadata": {},
     "output_type": "execute_result"
    }
   ],
   "source": [
    "scaled_data_eval.shape"
   ]
  },
  {
   "cell_type": "code",
   "execution_count": 72,
   "metadata": {},
   "outputs": [
    {
     "data": {
      "text/plain": [
       "['class_of_worker',\n",
       " 'industry_code',\n",
       " 'occupation_code',\n",
       " 'education',\n",
       " 'enrolled_in_edu_inst_lastwk',\n",
       " 'marital_status',\n",
       " 'major_industry_code',\n",
       " 'major_occupation_code',\n",
       " 'race',\n",
       " 'hispanic_origin',\n",
       " 'sex',\n",
       " 'member_of_labor_union',\n",
       " 'reason_for_unemployment',\n",
       " 'full_parttime_employment_stat',\n",
       " 'tax_filer_status',\n",
       " 'region_of_previous_residence',\n",
       " 'state_of_previous_residence',\n",
       " 'd_household_family_stat',\n",
       " 'd_household_summary',\n",
       " 'live_1_year_ago',\n",
       " 'num_person_Worked_employer',\n",
       " 'family_members_under_18',\n",
       " 'country_father',\n",
       " 'country_mother',\n",
       " 'country_self',\n",
       " 'citizenship',\n",
       " 'business_or_self_employed',\n",
       " 'veterans_benefits',\n",
       " 'weeks_worked_in_year',\n",
       " 'fill_questionnaire_veteran_admin',\n",
       " 'year',\n",
       " 'income_level']"
      ]
     },
     "execution_count": 72,
     "metadata": {},
     "output_type": "execute_result"
    }
   ],
   "source": [
    "cat_col"
   ]
  },
  {
   "cell_type": "code",
   "execution_count": 73,
   "metadata": {},
   "outputs": [],
   "source": [
    "cat_col_df_eval = census_eval[cat_col[:-1]] #spare for census_data for one hot encoding"
   ]
  },
  {
   "cell_type": "code",
   "execution_count": 74,
   "metadata": {},
   "outputs": [
    {
     "data": {
      "text/plain": [
       "(50000, 31)"
      ]
     },
     "execution_count": 74,
     "metadata": {},
     "output_type": "execute_result"
    }
   ],
   "source": [
    "cat_col_df_eval.shape"
   ]
  },
  {
   "cell_type": "code",
   "execution_count": 75,
   "metadata": {},
   "outputs": [
    {
     "data": {
      "text/html": [
       "<div>\n",
       "<style scoped>\n",
       "    .dataframe tbody tr th:only-of-type {\n",
       "        vertical-align: middle;\n",
       "    }\n",
       "\n",
       "    .dataframe tbody tr th {\n",
       "        vertical-align: top;\n",
       "    }\n",
       "\n",
       "    .dataframe thead th {\n",
       "        text-align: right;\n",
       "    }\n",
       "</style>\n",
       "<table border=\"1\" class=\"dataframe\">\n",
       "  <thead>\n",
       "    <tr style=\"text-align: right;\">\n",
       "      <th></th>\n",
       "      <th>class_of_worker</th>\n",
       "      <th>industry_code</th>\n",
       "      <th>occupation_code</th>\n",
       "      <th>education</th>\n",
       "      <th>enrolled_in_edu_inst_lastwk</th>\n",
       "      <th>marital_status</th>\n",
       "      <th>major_industry_code</th>\n",
       "      <th>major_occupation_code</th>\n",
       "      <th>race</th>\n",
       "      <th>hispanic_origin</th>\n",
       "      <th>sex</th>\n",
       "      <th>member_of_labor_union</th>\n",
       "      <th>reason_for_unemployment</th>\n",
       "      <th>full_parttime_employment_stat</th>\n",
       "      <th>tax_filer_status</th>\n",
       "      <th>region_of_previous_residence</th>\n",
       "      <th>state_of_previous_residence</th>\n",
       "      <th>d_household_family_stat</th>\n",
       "      <th>d_household_summary</th>\n",
       "      <th>live_1_year_ago</th>\n",
       "      <th>num_person_Worked_employer</th>\n",
       "      <th>family_members_under_18</th>\n",
       "      <th>country_father</th>\n",
       "      <th>country_mother</th>\n",
       "      <th>country_self</th>\n",
       "      <th>citizenship</th>\n",
       "      <th>business_or_self_employed</th>\n",
       "      <th>veterans_benefits</th>\n",
       "      <th>weeks_worked_in_year</th>\n",
       "      <th>fill_questionnaire_veteran_admin</th>\n",
       "      <th>year</th>\n",
       "    </tr>\n",
       "  </thead>\n",
       "  <tbody>\n",
       "    <tr>\n",
       "      <th>0</th>\n",
       "      <td>Not in universe</td>\n",
       "      <td>0</td>\n",
       "      <td>0</td>\n",
       "      <td>12th grade no diploma</td>\n",
       "      <td>Not in universe</td>\n",
       "      <td>Married-civilian spouse present</td>\n",
       "      <td>Not in universe or children</td>\n",
       "      <td>Not in universe</td>\n",
       "      <td>White</td>\n",
       "      <td>All other</td>\n",
       "      <td>Male</td>\n",
       "      <td>Not in universe</td>\n",
       "      <td>Not in universe</td>\n",
       "      <td>Children or Armed Forces</td>\n",
       "      <td>Joint one under 65 &amp; one 65+</td>\n",
       "      <td>Not in universe</td>\n",
       "      <td>Not in universe</td>\n",
       "      <td>Householder</td>\n",
       "      <td>Householder</td>\n",
       "      <td>Yes</td>\n",
       "      <td>0</td>\n",
       "      <td>Not in universe</td>\n",
       "      <td>United-States</td>\n",
       "      <td>United-States</td>\n",
       "      <td>United-States</td>\n",
       "      <td>Native- Born in the United States</td>\n",
       "      <td>0</td>\n",
       "      <td>2</td>\n",
       "      <td>0</td>\n",
       "      <td>Not in universe</td>\n",
       "      <td>94</td>\n",
       "    </tr>\n",
       "    <tr>\n",
       "      <th>1</th>\n",
       "      <td>Not in universe</td>\n",
       "      <td>0</td>\n",
       "      <td>0</td>\n",
       "      <td>Bachelors degree(BA AB BS)</td>\n",
       "      <td>Not in universe</td>\n",
       "      <td>Divorced</td>\n",
       "      <td>Not in universe or children</td>\n",
       "      <td>Not in universe</td>\n",
       "      <td>White</td>\n",
       "      <td>All other</td>\n",
       "      <td>Female</td>\n",
       "      <td>Not in universe</td>\n",
       "      <td>Not in universe</td>\n",
       "      <td>Not in labor force</td>\n",
       "      <td>Nonfiler</td>\n",
       "      <td>Not in universe</td>\n",
       "      <td>Not in universe</td>\n",
       "      <td>Nonfamily householder</td>\n",
       "      <td>Householder</td>\n",
       "      <td>Not in universe under 1 year old</td>\n",
       "      <td>0</td>\n",
       "      <td>Not in universe</td>\n",
       "      <td>France</td>\n",
       "      <td>United-States</td>\n",
       "      <td>United-States</td>\n",
       "      <td>Native- Born in the United States</td>\n",
       "      <td>0</td>\n",
       "      <td>2</td>\n",
       "      <td>0</td>\n",
       "      <td>Not in universe</td>\n",
       "      <td>95</td>\n",
       "    </tr>\n",
       "    <tr>\n",
       "      <th>2</th>\n",
       "      <td>Not in universe</td>\n",
       "      <td>0</td>\n",
       "      <td>0</td>\n",
       "      <td>High school graduate</td>\n",
       "      <td>Not in universe</td>\n",
       "      <td>Married-civilian spouse present</td>\n",
       "      <td>Not in universe or children</td>\n",
       "      <td>Not in universe</td>\n",
       "      <td>White</td>\n",
       "      <td>Puerto Rican</td>\n",
       "      <td>Female</td>\n",
       "      <td>Not in universe</td>\n",
       "      <td>Not in universe</td>\n",
       "      <td>Children or Armed Forces</td>\n",
       "      <td>Joint both under 65</td>\n",
       "      <td>Not in universe</td>\n",
       "      <td>Not in universe</td>\n",
       "      <td>Householder</td>\n",
       "      <td>Householder</td>\n",
       "      <td>Yes</td>\n",
       "      <td>0</td>\n",
       "      <td>Not in universe</td>\n",
       "      <td>United-States</td>\n",
       "      <td>United-States</td>\n",
       "      <td>United-States</td>\n",
       "      <td>Native- Born in the United States</td>\n",
       "      <td>0</td>\n",
       "      <td>2</td>\n",
       "      <td>0</td>\n",
       "      <td>Not in universe</td>\n",
       "      <td>94</td>\n",
       "    </tr>\n",
       "    <tr>\n",
       "      <th>3</th>\n",
       "      <td>Self-employed-incorporated</td>\n",
       "      <td>2</td>\n",
       "      <td>43</td>\n",
       "      <td>Bachelors degree(BA AB BS)</td>\n",
       "      <td>Not in universe</td>\n",
       "      <td>Married-civilian spouse present</td>\n",
       "      <td>Agriculture</td>\n",
       "      <td>Farming forestry and fishing</td>\n",
       "      <td>White</td>\n",
       "      <td>All other</td>\n",
       "      <td>Female</td>\n",
       "      <td>Not in universe</td>\n",
       "      <td>Not in universe</td>\n",
       "      <td>PT for non-econ reasons usually FT</td>\n",
       "      <td>Joint both under 65</td>\n",
       "      <td>Not in universe</td>\n",
       "      <td>Not in universe</td>\n",
       "      <td>Spouse of householder</td>\n",
       "      <td>Spouse of householder</td>\n",
       "      <td>Not in universe under 1 year old</td>\n",
       "      <td>1</td>\n",
       "      <td>Not in universe</td>\n",
       "      <td>United-States</td>\n",
       "      <td>United-States</td>\n",
       "      <td>United-States</td>\n",
       "      <td>Native- Born in the United States</td>\n",
       "      <td>0</td>\n",
       "      <td>2</td>\n",
       "      <td>52</td>\n",
       "      <td>Not in universe</td>\n",
       "      <td>95</td>\n",
       "    </tr>\n",
       "    <tr>\n",
       "      <th>4</th>\n",
       "      <td>Private</td>\n",
       "      <td>33</td>\n",
       "      <td>26</td>\n",
       "      <td>Some college but no degree</td>\n",
       "      <td>Not in universe</td>\n",
       "      <td>Married-civilian spouse present</td>\n",
       "      <td>Retail trade</td>\n",
       "      <td>Adm support including clerical</td>\n",
       "      <td>White</td>\n",
       "      <td>All other</td>\n",
       "      <td>Female</td>\n",
       "      <td>Not in universe</td>\n",
       "      <td>Not in universe</td>\n",
       "      <td>Children or Armed Forces</td>\n",
       "      <td>Joint both under 65</td>\n",
       "      <td>South</td>\n",
       "      <td>Louisiana</td>\n",
       "      <td>Spouse of householder</td>\n",
       "      <td>Spouse of householder</td>\n",
       "      <td>No</td>\n",
       "      <td>3</td>\n",
       "      <td>Not in universe</td>\n",
       "      <td>United-States</td>\n",
       "      <td>United-States</td>\n",
       "      <td>United-States</td>\n",
       "      <td>Native- Born in the United States</td>\n",
       "      <td>0</td>\n",
       "      <td>2</td>\n",
       "      <td>52</td>\n",
       "      <td>Not in universe</td>\n",
       "      <td>94</td>\n",
       "    </tr>\n",
       "  </tbody>\n",
       "</table>\n",
       "</div>"
      ],
      "text/plain": [
       "              class_of_worker  industry_code  occupation_code  \\\n",
       "0             Not in universe              0                0   \n",
       "1             Not in universe              0                0   \n",
       "2             Not in universe              0                0   \n",
       "3  Self-employed-incorporated              2               43   \n",
       "4                     Private             33               26   \n",
       "\n",
       "                    education enrolled_in_edu_inst_lastwk  \\\n",
       "0       12th grade no diploma             Not in universe   \n",
       "1  Bachelors degree(BA AB BS)             Not in universe   \n",
       "2        High school graduate             Not in universe   \n",
       "3  Bachelors degree(BA AB BS)             Not in universe   \n",
       "4  Some college but no degree             Not in universe   \n",
       "\n",
       "                    marital_status          major_industry_code  \\\n",
       "0  Married-civilian spouse present  Not in universe or children   \n",
       "1                         Divorced  Not in universe or children   \n",
       "2  Married-civilian spouse present  Not in universe or children   \n",
       "3  Married-civilian spouse present                  Agriculture   \n",
       "4  Married-civilian spouse present                 Retail trade   \n",
       "\n",
       "            major_occupation_code   race hispanic_origin     sex  \\\n",
       "0                 Not in universe  White       All other    Male   \n",
       "1                 Not in universe  White       All other  Female   \n",
       "2                 Not in universe  White    Puerto Rican  Female   \n",
       "3    Farming forestry and fishing  White       All other  Female   \n",
       "4  Adm support including clerical  White       All other  Female   \n",
       "\n",
       "  member_of_labor_union reason_for_unemployment  \\\n",
       "0       Not in universe         Not in universe   \n",
       "1       Not in universe         Not in universe   \n",
       "2       Not in universe         Not in universe   \n",
       "3       Not in universe         Not in universe   \n",
       "4       Not in universe         Not in universe   \n",
       "\n",
       "        full_parttime_employment_stat              tax_filer_status  \\\n",
       "0            Children or Armed Forces  Joint one under 65 & one 65+   \n",
       "1                  Not in labor force                      Nonfiler   \n",
       "2            Children or Armed Forces           Joint both under 65   \n",
       "3  PT for non-econ reasons usually FT           Joint both under 65   \n",
       "4            Children or Armed Forces           Joint both under 65   \n",
       "\n",
       "  region_of_previous_residence state_of_previous_residence  \\\n",
       "0              Not in universe             Not in universe   \n",
       "1              Not in universe             Not in universe   \n",
       "2              Not in universe             Not in universe   \n",
       "3              Not in universe             Not in universe   \n",
       "4                        South                   Louisiana   \n",
       "\n",
       "  d_household_family_stat    d_household_summary  \\\n",
       "0             Householder            Householder   \n",
       "1   Nonfamily householder            Householder   \n",
       "2             Householder            Householder   \n",
       "3   Spouse of householder  Spouse of householder   \n",
       "4   Spouse of householder  Spouse of householder   \n",
       "\n",
       "                    live_1_year_ago  num_person_Worked_employer  \\\n",
       "0                               Yes                           0   \n",
       "1  Not in universe under 1 year old                           0   \n",
       "2                               Yes                           0   \n",
       "3  Not in universe under 1 year old                           1   \n",
       "4                                No                           3   \n",
       "\n",
       "  family_members_under_18 country_father country_mother   country_self  \\\n",
       "0         Not in universe  United-States  United-States  United-States   \n",
       "1         Not in universe         France  United-States  United-States   \n",
       "2         Not in universe  United-States  United-States  United-States   \n",
       "3         Not in universe  United-States  United-States  United-States   \n",
       "4         Not in universe  United-States  United-States  United-States   \n",
       "\n",
       "                         citizenship  business_or_self_employed  \\\n",
       "0  Native- Born in the United States                          0   \n",
       "1  Native- Born in the United States                          0   \n",
       "2  Native- Born in the United States                          0   \n",
       "3  Native- Born in the United States                          0   \n",
       "4  Native- Born in the United States                          0   \n",
       "\n",
       "   veterans_benefits  weeks_worked_in_year fill_questionnaire_veteran_admin  \\\n",
       "0                  2                     0                  Not in universe   \n",
       "1                  2                     0                  Not in universe   \n",
       "2                  2                     0                  Not in universe   \n",
       "3                  2                    52                  Not in universe   \n",
       "4                  2                    52                  Not in universe   \n",
       "\n",
       "   year  \n",
       "0    94  \n",
       "1    95  \n",
       "2    94  \n",
       "3    95  \n",
       "4    94  "
      ]
     },
     "execution_count": 75,
     "metadata": {},
     "output_type": "execute_result"
    }
   ],
   "source": [
    "cat_col_df_eval.head()"
   ]
  },
  {
   "cell_type": "code",
   "execution_count": 76,
   "metadata": {},
   "outputs": [],
   "source": [
    "cat_col_df_eval_2 = cat_col_df_eval[:] #spare for cat_col_df"
   ]
  },
  {
   "cell_type": "code",
   "execution_count": 77,
   "metadata": {},
   "outputs": [
    {
     "data": {
      "text/plain": [
       "(50000, 31)"
      ]
     },
     "execution_count": 77,
     "metadata": {},
     "output_type": "execute_result"
    }
   ],
   "source": [
    "cat_col_df_eval_2.shape"
   ]
  },
  {
   "cell_type": "code",
   "execution_count": 78,
   "metadata": {},
   "outputs": [],
   "source": [
    "cat_col_df_eval_2 = pd.concat([cat_col_df_eval_2, scaled_data_eval], axis=1)"
   ]
  },
  {
   "cell_type": "code",
   "execution_count": 79,
   "metadata": {},
   "outputs": [
    {
     "data": {
      "text/plain": [
       "(200000, 36)"
      ]
     },
     "execution_count": 79,
     "metadata": {},
     "output_type": "execute_result"
    }
   ],
   "source": [
    "cat_col_df_eval_2.shape"
   ]
  },
  {
   "cell_type": "code",
   "execution_count": 80,
   "metadata": {},
   "outputs": [
    {
     "data": {
      "text/plain": [
       "Index(['class_of_worker', 'industry_code', 'occupation_code', 'education',\n",
       "       'enrolled_in_edu_inst_lastwk', 'marital_status', 'major_industry_code',\n",
       "       'major_occupation_code', 'race', 'hispanic_origin', 'sex',\n",
       "       'member_of_labor_union', 'reason_for_unemployment',\n",
       "       'full_parttime_employment_stat', 'tax_filer_status',\n",
       "       'region_of_previous_residence', 'state_of_previous_residence',\n",
       "       'd_household_family_stat', 'd_household_summary', 'live_1_year_ago',\n",
       "       'num_person_Worked_employer', 'family_members_under_18',\n",
       "       'country_father', 'country_mother', 'country_self', 'citizenship',\n",
       "       'business_or_self_employed', 'veterans_benefits',\n",
       "       'weeks_worked_in_year', 'fill_questionnaire_veteran_admin', 'year',\n",
       "       'age', 'wage_per_hour', 'capital_gains', 'capital_losses',\n",
       "       'dividend_from_Stocks'],\n",
       "      dtype='object')"
      ]
     },
     "execution_count": 80,
     "metadata": {},
     "output_type": "execute_result"
    }
   ],
   "source": [
    "cat_col_df_eval_2.columns"
   ]
  },
  {
   "cell_type": "code",
   "execution_count": 82,
   "metadata": {},
   "outputs": [],
   "source": [
    "df_data_eval = pd.DataFrame()\n",
    "for i in cat_col[:-1]:\n",
    "  a_eval = pd.get_dummies(cat_col_df_eval_2[i], prefix= i[:6])\n",
    "  df_data_eval = pd.concat([df_data_eval, a_eval], axis=1)"
   ]
  },
  {
   "cell_type": "code",
   "execution_count": 83,
   "metadata": {},
   "outputs": [
    {
     "data": {
      "text/plain": [
       "(200000, 522)"
      ]
     },
     "execution_count": 83,
     "metadata": {},
     "output_type": "execute_result"
    }
   ],
   "source": [
    "df_data_eval.shape"
   ]
  },
  {
   "cell_type": "code",
   "execution_count": 84,
   "metadata": {},
   "outputs": [
    {
     "data": {
      "text/plain": [
       "(200000, 36)"
      ]
     },
     "execution_count": 84,
     "metadata": {},
     "output_type": "execute_result"
    }
   ],
   "source": [
    "cat_col_df_eval_2.shape"
   ]
  },
  {
   "cell_type": "code",
   "execution_count": 85,
   "metadata": {},
   "outputs": [],
   "source": [
    "cat_col_df_eval_2.drop(labels = cat_col[:-1], inplace = True, axis = 1)"
   ]
  },
  {
   "cell_type": "code",
   "execution_count": 86,
   "metadata": {},
   "outputs": [
    {
     "data": {
      "text/plain": [
       "(200000, 5)"
      ]
     },
     "execution_count": 86,
     "metadata": {},
     "output_type": "execute_result"
    }
   ],
   "source": [
    "cat_col_df_eval_2.shape"
   ]
  },
  {
   "cell_type": "code",
   "execution_count": 87,
   "metadata": {},
   "outputs": [
    {
     "data": {
      "text/plain": [
       "(200000, 6)"
      ]
     },
     "execution_count": 87,
     "metadata": {},
     "output_type": "execute_result"
    }
   ],
   "source": [
    "cat_col_df_2.shape"
   ]
  },
  {
   "cell_type": "code",
   "execution_count": 88,
   "metadata": {},
   "outputs": [
    {
     "data": {
      "text/html": [
       "<div>\n",
       "<style scoped>\n",
       "    .dataframe tbody tr th:only-of-type {\n",
       "        vertical-align: middle;\n",
       "    }\n",
       "\n",
       "    .dataframe tbody tr th {\n",
       "        vertical-align: top;\n",
       "    }\n",
       "\n",
       "    .dataframe thead th {\n",
       "        text-align: right;\n",
       "    }\n",
       "</style>\n",
       "<table border=\"1\" class=\"dataframe\">\n",
       "  <thead>\n",
       "    <tr style=\"text-align: right;\">\n",
       "      <th></th>\n",
       "      <th>age</th>\n",
       "      <th>wage_per_hour</th>\n",
       "      <th>capital_gains</th>\n",
       "      <th>capital_losses</th>\n",
       "      <th>dividend_from_Stocks</th>\n",
       "    </tr>\n",
       "  </thead>\n",
       "  <tbody>\n",
       "    <tr>\n",
       "      <th>0</th>\n",
       "      <td>-0.524730</td>\n",
       "      <td>-0.201577</td>\n",
       "      <td>-0.09659</td>\n",
       "      <td>-0.140071</td>\n",
       "      <td>-0.103258</td>\n",
       "    </tr>\n",
       "    <tr>\n",
       "      <th>1</th>\n",
       "      <td>-0.479737</td>\n",
       "      <td>-0.201577</td>\n",
       "      <td>-0.09659</td>\n",
       "      <td>-0.140071</td>\n",
       "      <td>-0.103258</td>\n",
       "    </tr>\n",
       "    <tr>\n",
       "      <th>2</th>\n",
       "      <td>0.150164</td>\n",
       "      <td>-0.201577</td>\n",
       "      <td>-0.09659</td>\n",
       "      <td>-0.140071</td>\n",
       "      <td>0.017949</td>\n",
       "    </tr>\n",
       "    <tr>\n",
       "      <th>3</th>\n",
       "      <td>-0.074801</td>\n",
       "      <td>-0.201577</td>\n",
       "      <td>-0.09659</td>\n",
       "      <td>-0.140071</td>\n",
       "      <td>-0.103258</td>\n",
       "    </tr>\n",
       "    <tr>\n",
       "      <th>4</th>\n",
       "      <td>-0.974659</td>\n",
       "      <td>-0.201577</td>\n",
       "      <td>-0.09659</td>\n",
       "      <td>-0.140071</td>\n",
       "      <td>-0.103258</td>\n",
       "    </tr>\n",
       "  </tbody>\n",
       "</table>\n",
       "</div>"
      ],
      "text/plain": [
       "        age  wage_per_hour  capital_gains  capital_losses  \\\n",
       "0 -0.524730      -0.201577       -0.09659       -0.140071   \n",
       "1 -0.479737      -0.201577       -0.09659       -0.140071   \n",
       "2  0.150164      -0.201577       -0.09659       -0.140071   \n",
       "3 -0.074801      -0.201577       -0.09659       -0.140071   \n",
       "4 -0.974659      -0.201577       -0.09659       -0.140071   \n",
       "\n",
       "   dividend_from_Stocks  \n",
       "0             -0.103258  \n",
       "1             -0.103258  \n",
       "2              0.017949  \n",
       "3             -0.103258  \n",
       "4             -0.103258  "
      ]
     },
     "execution_count": 88,
     "metadata": {},
     "output_type": "execute_result"
    }
   ],
   "source": [
    "cat_col_df_eval_2.head()"
   ]
  },
  {
   "cell_type": "markdown",
   "metadata": {},
   "source": [
    "# Applying Model for Evaluation census data - census_eval"
   ]
  },
  {
   "cell_type": "code",
   "execution_count": 89,
   "metadata": {},
   "outputs": [],
   "source": [
    "from sklearn.ensemble import AdaBoostClassifier\n",
    "#from sklearn.tree import DecisionTreeClassifier\n",
    "from sklearn.tree import DecisionTreeClassifier\n",
    "from sklearn.model_selection import train_test_split\n",
    "from sklearn.metrics import confusion_matrix"
   ]
  },
  {
   "cell_type": "code",
   "execution_count": 90,
   "metadata": {},
   "outputs": [
    {
     "data": {
      "text/plain": [
       "(200000, 6)"
      ]
     },
     "execution_count": 90,
     "metadata": {},
     "output_type": "execute_result"
    }
   ],
   "source": [
    "cat_col_df_2.shape"
   ]
  },
  {
   "cell_type": "code",
   "execution_count": 91,
   "metadata": {},
   "outputs": [
    {
     "data": {
      "text/plain": [
       "(200000, 5)"
      ]
     },
     "execution_count": 91,
     "metadata": {},
     "output_type": "execute_result"
    }
   ],
   "source": [
    "cat_col_df_eval_2.shape"
   ]
  },
  {
   "cell_type": "code",
   "execution_count": 92,
   "metadata": {},
   "outputs": [],
   "source": [
    "X = cat_col_df_2.iloc[:,1:]\n",
    "y = cat_col_df_2.iloc[:,0]"
   ]
  },
  {
   "cell_type": "code",
   "execution_count": 93,
   "metadata": {},
   "outputs": [],
   "source": [
    "train_X, test_X, train_y, test_y = train_test_split(X, y, random_state=1)"
   ]
  },
  {
   "cell_type": "code",
   "execution_count": 94,
   "metadata": {},
   "outputs": [
    {
     "data": {
      "text/plain": [
       "AdaBoostClassifier(algorithm='SAMME.R',\n",
       "                   base_estimator=DecisionTreeClassifier(ccp_alpha=0.0,\n",
       "                                                         class_weight=None,\n",
       "                                                         criterion='gini',\n",
       "                                                         max_depth=3,\n",
       "                                                         max_features=None,\n",
       "                                                         max_leaf_nodes=None,\n",
       "                                                         min_impurity_decrease=0.0,\n",
       "                                                         min_impurity_split=None,\n",
       "                                                         min_samples_leaf=1,\n",
       "                                                         min_samples_split=2,\n",
       "                                                         min_weight_fraction_leaf=0.0,\n",
       "                                                         presort='deprecated',\n",
       "                                                         random_state=None,\n",
       "                                                         splitter='best'),\n",
       "                   learning_rate=1.0, n_estimators=200, random_state=None)"
      ]
     },
     "execution_count": 94,
     "metadata": {},
     "output_type": "execute_result"
    }
   ],
   "source": [
    "classifier = AdaBoostClassifier(\n",
    "    DecisionTreeClassifier(max_depth=3),\n",
    "    n_estimators=200\n",
    ")\n",
    "classifier.fit(train_X, train_y)"
   ]
  },
  {
   "cell_type": "code",
   "execution_count": 95,
   "metadata": {},
   "outputs": [],
   "source": [
    "#dt = DecisionTreeClassifier()\n",
    "#dt.fit(train_X, train_y)"
   ]
  },
  {
   "cell_type": "code",
   "execution_count": 96,
   "metadata": {},
   "outputs": [],
   "source": [
    "predictions = classifier.predict(test_X)\n",
    "#predictions = dt.predict(test_X)"
   ]
  },
  {
   "cell_type": "code",
   "execution_count": 97,
   "metadata": {},
   "outputs": [
    {
     "data": {
      "text/plain": [
       "array([[45883,   353],\n",
       "       [ 2737,  1027]], dtype=int64)"
      ]
     },
     "execution_count": 97,
     "metadata": {},
     "output_type": "execute_result"
    }
   ],
   "source": [
    "confusion_matrix(test_y, predictions)\n",
    "\n",
    "#species = np.array(test_y)\n",
    "#predictions = np.array(predictions)\n",
    "#confusion_matrix(species, predictions)"
   ]
  },
  {
   "cell_type": "code",
   "execution_count": 98,
   "metadata": {},
   "outputs": [
    {
     "data": {
      "text/plain": [
       "0.9246559202450244"
      ]
     },
     "execution_count": 98,
     "metadata": {},
     "output_type": "execute_result"
    }
   ],
   "source": [
    "from sklearn.metrics import f1_score\n",
    "\n",
    "y_true = test_y\n",
    "y_pred = predictions\n",
    "\n",
    "\n",
    "f1_score(y_true, y_pred, average='weighted')"
   ]
  },
  {
   "cell_type": "code",
   "execution_count": 99,
   "metadata": {},
   "outputs": [],
   "source": [
    "predictions_2 = classifier.predict(cat_col_df_eval_2)\n",
    "#predictions_2 = dt.predict(cat_col_df_eval_2)"
   ]
  },
  {
   "cell_type": "code",
   "execution_count": 100,
   "metadata": {},
   "outputs": [
    {
     "data": {
      "text/plain": [
       "array([0, 0, 0, ..., 0, 0, 0], dtype=int64)"
      ]
     },
     "execution_count": 100,
     "metadata": {},
     "output_type": "execute_result"
    }
   ],
   "source": [
    "predictions_2"
   ]
  },
  {
   "cell_type": "code",
   "execution_count": 102,
   "metadata": {},
   "outputs": [],
   "source": [
    "res = pd.DataFrame(predictions_2) #preditcions are nothing but the final predictions of your model on input features of your new unseen test data\n",
    "#res.index = test_new.index # its important for comparison. Here \"test_new\" is your new test dataset\n",
    "res.columns = [\"prediction\"]\n",
    "res.to_csv(\"prediction_results_HP.csv\")  "
   ]
  },
  {
   "cell_type": "code",
   "execution_count": null,
   "metadata": {},
   "outputs": [],
   "source": [
    "res = pd.DataFrame(predictions) #preditcions are nothing but the final predictions of your model on input features of your new unseen test data\n",
    "#res.index = test_new.index # its important for comparison. Here \"test_new\" is your new test dataset\n",
    "res.columns = [\"prediction\"]"
   ]
  }
 ],
 "metadata": {
  "kernelspec": {
   "display_name": "Python 3",
   "language": "python",
   "name": "python3"
  },
  "language_info": {
   "codemirror_mode": {
    "name": "ipython",
    "version": 3
   },
   "file_extension": ".py",
   "mimetype": "text/x-python",
   "name": "python",
   "nbconvert_exporter": "python",
   "pygments_lexer": "ipython3",
   "version": "3.7.6"
  }
 },
 "nbformat": 4,
 "nbformat_minor": 4
}
