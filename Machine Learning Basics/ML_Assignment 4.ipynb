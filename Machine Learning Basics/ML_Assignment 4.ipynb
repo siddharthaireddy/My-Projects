{
 "cells": [
  {
   "cell_type": "markdown",
   "metadata": {},
   "source": [
    "# Question 1.1:(Solution)"
   ]
  },
  {
   "cell_type": "markdown",
   "metadata": {},
   "source": [
    "Q: Python Program(with class concepts) to find the area of the triangle using given formula."
   ]
  },
  {
   "cell_type": "code",
   "execution_count": 10,
   "metadata": {},
   "outputs": [],
   "source": [
    "#Method 1: considering constructor method"
   ]
  },
  {
   "cell_type": "code",
   "execution_count": 11,
   "metadata": {},
   "outputs": [
    {
     "name": "stdout",
     "output_type": "stream",
     "text": [
      "Enter the length of 1st Side:23\n",
      "Enter the length of 2nd Side:21\n",
      "Enter the length of 3rd Side:23\n",
      "Area of triangle is:  214.86551026165182\n"
     ]
    }
   ],
   "source": [
    "class Triangle:\n",
    "    def __init__(self, *argv):\n",
    "        self.a = eval(input(\"Enter the length of 1st Side:\"))\n",
    "        self.b = eval(input(\"Enter the length of 2nd Side:\"))\n",
    "        self.c = eval(input(\"Enter the length of 3rd Side:\"))\n",
    "        self.s = ((self.a) + (self.b) + (self.c))/2\n",
    "            \n",
    "    def length_inputs(self):\n",
    "        print(self.a, self.b ,self.c)\n",
    "\n",
    "class Area_triangle(Triangle):\n",
    "    def __init__(self):\n",
    "        super().__init__(self)\n",
    "    \n",
    "    def test(self):\n",
    "        if self.a + self.b <= self.c:\n",
    "            print(\"<<< Please Enter valid triangle sides>>>\")\n",
    "            super().__init__(self)\n",
    "            a1.test()\n",
    "        elif self.a + self.c <= self.b:\n",
    "            print(\"<<< Please Enter valid triangle sides>>>\")\n",
    "            super().__init__(self)\n",
    "            a1.test()\n",
    "        elif self.b + self.a <= self.c:\n",
    "            print(\"<<< Please Enter valid triangle sides>>>\")\n",
    "            super().__init__(self)\n",
    "            a1.test()\n",
    "        else:\n",
    "            a1.area()\n",
    "            \n",
    "    def area(self):\n",
    "        area_triangle = (self.s*(self.s-self.a)*(self.s-self.b)*(self.s-self.c))**0.5\n",
    "        print(\"Area of triangle is: \",area_triangle)\n",
    "    \n",
    "#t1 = Triangle()\n",
    "a1 = Area_triangle()\n",
    "a1.test()"
   ]
  },
  {
   "cell_type": "code",
   "execution_count": 12,
   "metadata": {},
   "outputs": [],
   "source": [
    "#Method 2: considering instance method"
   ]
  },
  {
   "cell_type": "code",
   "execution_count": 13,
   "metadata": {},
   "outputs": [
    {
     "name": "stdout",
     "output_type": "stream",
     "text": [
      "Enter the length of 1st Side:12\n",
      "Enter the length of 2nd Side:24\n",
      "Enter the length of 3rd Side:34\n",
      "Area of triangle is:  94.10100955887773\n"
     ]
    }
   ],
   "source": [
    "class Triangle:\n",
    "    def __init__(self, *argv):\n",
    "        pass\n",
    "            \n",
    "    def length_inputs(self):\n",
    "        self.a = eval(input(\"Enter the length of 1st Side:\"))\n",
    "        self.b = eval(input(\"Enter the length of 2nd Side:\"))\n",
    "        self.c = eval(input(\"Enter the length of 3rd Side:\"))\n",
    "        self.s = ((self.a) + (self.b) + (self.c))/2\n",
    "\n",
    "class Area_triangle(Triangle):\n",
    "    def __init__(self):\n",
    "        super().length_inputs()\n",
    "    \n",
    "    def test(self):\n",
    "        if self.a + self.b <= self.c:\n",
    "            print(\"<<< Please Enter valid triangle sides>>>\")\n",
    "            super().length_inputs()\n",
    "            a1.test()\n",
    "        elif self.a + self.c <= self.b:\n",
    "            print(\"<<< Please Enter valid triangle sides>>>\")\n",
    "            super().length_inputs()\n",
    "            a1.test()\n",
    "        elif self.b + self.a <= self.c:\n",
    "            print(\"<<< Please Enter valid triangle sides>>>\")\n",
    "            super().length_inputs()\n",
    "            a1.test()\n",
    "        else:\n",
    "            a1.area()\n",
    "    \n",
    "    def area(self):\n",
    "        area_triangle = (self.s*(self.s-self.a)*(self.s-self.b)*(self.s-self.c))**0.5\n",
    "        print(\"Area of triangle is: \",area_triangle)\n",
    "    \n",
    "#t1 = Triangle()\n",
    "a1 = Area_triangle()\n",
    "a1.test()"
   ]
  },
  {
   "cell_type": "markdown",
   "metadata": {},
   "source": [
    "# Question 1.2:(Solution)"
   ]
  },
  {
   "cell_type": "markdown",
   "metadata": {},
   "source": [
    "Q: function filter_long_words(), takes a list of words and an integer n and returns the list of words that are longer than n."
   ]
  },
  {
   "cell_type": "code",
   "execution_count": 14,
   "metadata": {},
   "outputs": [
    {
     "name": "stdout",
     "output_type": "stream",
     "text": [
      "The list of words with length greater than 8 is: ['retrwetre', 'gfdgsdfgd']\n"
     ]
    }
   ],
   "source": [
    "def filter_long_words(list_1, n):\n",
    "    x = []\n",
    "    for i in list_1:\n",
    "        if len(i) > n:\n",
    "            x.append(i)\n",
    "    print(\"The list of words with length greater than\", n, \"is:\",x)\n",
    "filter_long_words(['gsagavbs','retrwetre','rurty','gfdgsdfgd','ertw'], 8)"
   ]
  },
  {
   "cell_type": "code",
   "execution_count": 15,
   "metadata": {},
   "outputs": [],
   "source": [
    "#input from user"
   ]
  },
  {
   "cell_type": "code",
   "execution_count": 16,
   "metadata": {},
   "outputs": [
    {
     "name": "stdout",
     "output_type": "stream",
     "text": [
      "Please input the list of comma seperated Words: asdfdsa,sadfsa,sdafdsaf,sdgfasdgf\n",
      "Please enter a wordlength: 3\n",
      "The sorted list of words with length greater than 3 is: ['asdfdsa', 'sadfsa', 'sdafdsaf', 'sdgfasdgf']\n"
     ]
    }
   ],
   "source": [
    "def filter_long_words():\n",
    "    list_1 = input(\"Please input the list of comma seperated Words: \").split(\",\")\n",
    "    n = eval(input(\"Please enter a wordlength: \"))\n",
    "    x = []\n",
    "    for i in list_1:\n",
    "        if len(i) > n:\n",
    "            x.append(i)\n",
    "    print(\"The sorted list of words with length greater than\", n, \"is:\",x)\n",
    "filter_long_words()"
   ]
  },
  {
   "cell_type": "markdown",
   "metadata": {},
   "source": [
    "# Question 2.1:(Solution)"
   ]
  },
  {
   "cell_type": "markdown",
   "metadata": {},
   "source": [
    "Q: Program using function concept that maps list of words into a list of integers representing their lengths."
   ]
  },
  {
   "cell_type": "code",
   "execution_count": 17,
   "metadata": {},
   "outputs": [],
   "source": [
    "#Method 1: input from user"
   ]
  },
  {
   "cell_type": "code",
   "execution_count": 18,
   "metadata": {},
   "outputs": [
    {
     "name": "stdout",
     "output_type": "stream",
     "text": [
      "The corresponding length list is: [4, 6, 7, 5]\n"
     ]
    }
   ],
   "source": [
    "def words_to_length(list_2):\n",
    "    y = []\n",
    "    for i in list_2:\n",
    "        y.append(len(i))\n",
    "    print(\"The corresponding length list is:\",y)\n",
    "words_to_length(['vdsf','dsfsdf','dfsgfds','gdfsg'])"
   ]
  },
  {
   "cell_type": "code",
   "execution_count": 19,
   "metadata": {},
   "outputs": [],
   "source": [
    "#Method 2: input from user"
   ]
  },
  {
   "cell_type": "code",
   "execution_count": 20,
   "metadata": {},
   "outputs": [
    {
     "name": "stdout",
     "output_type": "stream",
     "text": [
      "Please input the list of comma seperated Words: asdfsaf,rewtytee,ytytryr,yreye\n",
      "The corresponding length list is: [7, 8, 7, 5]\n"
     ]
    }
   ],
   "source": [
    "def words_to_length():\n",
    "    list_2 = input(\"Please input the list of comma seperated Words: \").split(\",\")\n",
    "    x = []\n",
    "    for i in list_2:\n",
    "        x.append(len(i))\n",
    "    print(\"The corresponding length list is:\",x)\n",
    "words_to_length()"
   ]
  },
  {
   "cell_type": "markdown",
   "metadata": {},
   "source": [
    "# Question 2.2:(Solution)"
   ]
  },
  {
   "cell_type": "markdown",
   "metadata": {},
   "source": [
    "Q: Python function which takes a character (i.e. a string of length 1) and returns True if it is a vowel, False otherwise."
   ]
  },
  {
   "cell_type": "code",
   "execution_count": 21,
   "metadata": {},
   "outputs": [
    {
     "data": {
      "text/plain": [
       "True"
      ]
     },
     "execution_count": 21,
     "metadata": {},
     "output_type": "execute_result"
    }
   ],
   "source": [
    "def check_vowel(x):\n",
    "    vowels = ['a','e','i','o','u']\n",
    "    if x.lower() in vowels:\n",
    "        return True\n",
    "    else:\n",
    "        return False\n",
    "\n",
    "check_vowel('a')"
   ]
  },
  {
   "cell_type": "code",
   "execution_count": null,
   "metadata": {},
   "outputs": [],
   "source": []
  }
 ],
 "metadata": {
  "kernelspec": {
   "display_name": "Python 3",
   "language": "python",
   "name": "python3"
  },
  "language_info": {
   "codemirror_mode": {
    "name": "ipython",
    "version": 3
   },
   "file_extension": ".py",
   "mimetype": "text/x-python",
   "name": "python",
   "nbconvert_exporter": "python",
   "pygments_lexer": "ipython3",
   "version": "3.7.4"
  }
 },
 "nbformat": 4,
 "nbformat_minor": 2
}
