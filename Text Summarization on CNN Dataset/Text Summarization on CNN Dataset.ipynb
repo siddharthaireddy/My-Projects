{
 "cells": [
  {
   "cell_type": "code",
   "execution_count": null,
   "metadata": {},
   "outputs": [],
   "source": [
    "import numpy as np \n",
    "import pandas as pd \n",
    "import seaborn as sns\n",
    "import os\n",
    "import glob\n",
    "from string import digits\n",
    "import matplotlib.pyplot as plt\n",
    "%matplotlib inline\n",
    "\n",
    "\n",
    "from keras.models import Model\n",
    "from keras.layers import Input, LSTM, Dense\n",
    "from keras.utils import *\n",
    "from keras.initializers import *\n",
    "import tensorflow as tf\n",
    "import time, random\n",
    "import re\n",
    "import string\n",
    "\n",
    "from string import digits\n",
    "from keras.optimizers import Adam\n",
    "\n",
    "\n",
    "\n",
    "from sklearn.utils import shuffle\n",
    "from sklearn.model_selection import train_test_split\n",
    "from keras.layers import Input, LSTM, Embedding, Dense\n",
    "from keras.models import Model\n",
    "\n",
    "from tensorflow.keras.preprocessing.sequence import pad_sequences\n",
    "import nltk\n",
    "from nltk.tokenize import RegexpTokenizer\n",
    "from nltk.tokenize import word_tokenize\n",
    "nltk.download('stopwords')\n",
    "nltk.download('punkt')\n",
    "\n",
    "from collections import Counter\n",
    "from nltk.corpus import stopwords \n",
    "from nltk.tokenize import word_tokenize\n",
    "\n",
    "pd.set_option('display.max_rows', 500)\n",
    "pd.set_option('display.max_columns', 500)\n",
    "pd.set_option('display.width', 1000)\n",
    "pd.set_option('display.max_colwidth', -1)"
   ]
  },
  {
   "cell_type": "code",
   "execution_count": null,
   "metadata": {},
   "outputs": [],
   "source": [
    "import os\n",
    "short_files = []\n",
    "cwd = os.getcwd()\n",
    "\n",
    "#name of the folder having data set in the directory\n",
    "path = cwd+'\\\\stories'\n",
    "os.listdir() \n",
    "\n",
    "print(path)\n",
    "\n",
    "# get data file names\n",
    "filenames = glob.glob(path + \"\\\\*.story\")\n",
    "\n",
    "for file in filenames:\n",
    "    with open(file, encoding=\"utf8\") as f1:\n",
    "        short_files.append(f1.read())"
   ]
  },
  {
   "cell_type": "code",
   "execution_count": null,
   "metadata": {},
   "outputs": [],
   "source": [
    "len(short_files)"
   ]
  },
  {
   "cell_type": "code",
   "execution_count": null,
   "metadata": {},
   "outputs": [],
   "source": [
    "def sent_split(a):\n",
    "  corrected = str(a)\n",
    "  corrected = re.sub(r\"\\b(CNN)\\b\",r\"\", corrected)\n",
    "  corrected = re.sub(r'([\"!?,;])\\1+', r'\\1', corrected)\n",
    "  corrected = re.sub(r'\\.{2,}', r'...', corrected)\n",
    "  corrected = re.sub(r\"//t\",r\"\\t\", corrected)\n",
    "  corrected = re.sub(r\"( )\\1+\",r\"\\1\", corrected)\n",
    "  corrected = re.sub(r\"(\\n)\\1+\",r\"\\1\", corrected)\n",
    "  corrected = re.sub(r\"(\\r)\\1+\",r\"\\1\", corrected)\n",
    "  corrected = re.sub(r\"(\\t)\\1+\",r\"\\1\", corrected)\n",
    "  corrected.translate(str.maketrans('', '', string.punctuation))\n",
    "  corrected = corrected.split(\"highlight\",maxsplit=1)\n",
    "  return corrected\n",
    "\n",
    "def sent_clean(b):\n",
    "  b = b.split(\"\\n\")\n",
    "  abc = [] \n",
    "  for j in b:\n",
    "    tokenizer = RegexpTokenizer(r'\\w+')\n",
    "    j = \" \".join(tokenizer.tokenize(j))\n",
    "    k_1 = []\n",
    "    if len(j)>1:\n",
    "      p = word_tokenize(j)\n",
    "      for i in p:\n",
    "        if i.lower() not in stop_words:\n",
    "          k_1.append(i.lower())\n",
    "    if len(k_1) > 0:\n",
    "      abc.append(\" \".join(k_1))\n",
    "  return \" \".join(abc)\n",
    "\n",
    "\n",
    "def highlight_clean(b):\n",
    "  abc = [] \n",
    "  \n",
    "  b = re.sub(r\"\\bhighlight\\b\",r\"\", b)\n",
    "  b = b.split(\"\\n\")\n",
    "  k_1 = []\n",
    "  for j in b:\n",
    "    tokenizer = RegexpTokenizer(r'\\w+')\n",
    "    j = \" \".join(tokenizer.tokenize(j))\n",
    "    k_1 = []\n",
    "    if len(j)>1:\n",
    "      p = word_tokenize(j)\n",
    "      for i in p:\n",
    "        if i.lower() not in stop_words:\n",
    "          k_1.append(i.lower())\n",
    "    if len(k_1) > 0:\n",
    "      abc.append(\" \".join(k_1))\n",
    "  return \" \".join(abc)"
   ]
  },
  {
   "cell_type": "code",
   "execution_count": null,
   "metadata": {},
   "outputs": [],
   "source": [
    "stop_words = set(stopwords.words('english'))"
   ]
  },
  {
   "cell_type": "code",
   "execution_count": null,
   "metadata": {},
   "outputs": [],
   "source": [
    "data_set = pd.DataFrame(columns=['sentence', 'highlight'])\n",
    "data_set_clean = pd.DataFrame(columns=['cleaned sentence', 'cleaned highlight'])"
   ]
  },
  {
   "cell_type": "code",
   "execution_count": null,
   "metadata": {},
   "outputs": [],
   "source": [
    "for i in range(len(short_files)):\n",
    "  data_set.loc[i,'sentence'] = sent_split(short_files[i])[0]\n",
    "  data_set.loc[i,'highlight'] = sent_split(short_files[i])[1]\n",
    "\n",
    "for i in range(len(short_files)):\n",
    "  data_set_clean.loc[i,'cleaned sentence'] = sent_clean(sent_split(short_files[i])[0])\n",
    "  data_set_clean.loc[i,'cleaned highlight'] = highlight_clean(sent_split(short_files[i])[1])"
   ]
  },
  {
   "cell_type": "code",
   "execution_count": null,
   "metadata": {},
   "outputs": [],
   "source": [
    "data_set_clean.head()"
   ]
  },
  {
   "cell_type": "code",
   "execution_count": null,
   "metadata": {},
   "outputs": [],
   "source": [
    "data_set_clean.isnull().sum()"
   ]
  },
  {
   "cell_type": "code",
   "execution_count": null,
   "metadata": {},
   "outputs": [],
   "source": [
    "data_set_clean.drop_duplicates(inplace=True)"
   ]
  },
  {
   "cell_type": "code",
   "execution_count": null,
   "metadata": {},
   "outputs": [],
   "source": [
    "# Lowercase all characters\n",
    "data_set_clean['cleaned sentence'] = data_set_clean['cleaned sentence'].apply(lambda x: x.lower())\n",
    "data_set_clean['cleaned highlight'] = data_set_clean['cleaned highlight'].apply(lambda x: x.lower())"
   ]
  },
  {
   "cell_type": "code",
   "execution_count": null,
   "metadata": {},
   "outputs": [],
   "source": [
    "# Remove quotes\n",
    "data_set_clean['cleaned sentence'] =data_set_clean['cleaned sentence'].apply(lambda x: re.sub(\"'\", '', x))\n",
    "data_set_clean['cleaned highlight'] =data_set_clean['cleaned highlight'].apply(lambda x: re.sub(\"'\", '', x))"
   ]
  },
  {
   "cell_type": "code",
   "execution_count": null,
   "metadata": {},
   "outputs": [],
   "source": [
    "exclude = set(string.punctuation) # Set of all special characters\n",
    "# Remove all the special characters\n",
    "data_set_clean['cleaned sentence'] =data_set_clean['cleaned sentence'].apply(lambda x: ''.join(ch for ch in x if ch not in exclude))\n",
    "data_set_clean['cleaned highlight']=data_set_clean['cleaned highlight'].apply(lambda x: ''.join(ch for ch in x if ch not in exclude))"
   ]
  },
  {
   "cell_type": "code",
   "execution_count": null,
   "metadata": {},
   "outputs": [],
   "source": [
    "# Remove all numbers from text\n",
    "remove_digits = str.maketrans('', '', digits)\n",
    "data_set_clean['cleaned sentence']=data_set_clean['cleaned sentence'].apply(lambda x: x.translate(remove_digits))\n",
    "data_set_clean['cleaned highlight']=data_set_clean['cleaned highlight'].apply(lambda x: x.translate(remove_digits))\n",
    "data_set_clean['cleaned highlight'] = data_set_clean['cleaned highlight'].apply(lambda x: re.sub(\"[२३०८१५७९४६]\", \"\", x))\n",
    "\n",
    "# Remove extra spaces\n",
    "data_set_clean['cleaned highlight']=data_set_clean['cleaned highlight'].apply(lambda x: x.strip())\n",
    "data_set_clean['cleaned sentence']=data_set_clean['cleaned sentence'].apply(lambda x: x.strip())\n",
    "data_set_clean['cleaned highlight']=data_set_clean['cleaned highlight'].apply(lambda x: re.sub(\" +\", \" \", x))\n",
    "data_set_clean['cleaned sentence']=data_set_clean['cleaned sentence'].apply(lambda x: re.sub(\" +\", \" \", x))\n"
   ]
  },
  {
   "cell_type": "code",
   "execution_count": null,
   "metadata": {},
   "outputs": [],
   "source": [
    "data_set_clean.head()"
   ]
  },
  {
   "cell_type": "code",
   "execution_count": null,
   "metadata": {},
   "outputs": [],
   "source": [
    "#Hyperparameters\n",
    "batch_size = 64\n",
    "latent_dim = 256\n",
    "num_samples = 10000"
   ]
  },
  {
   "cell_type": "code",
   "execution_count": null,
   "metadata": {},
   "outputs": [],
   "source": [
    "data_set_clean.columns"
   ]
  },
  {
   "cell_type": "code",
   "execution_count": null,
   "metadata": {},
   "outputs": [],
   "source": [
    "#Vectorize the data.\n",
    "input_texts = []\n",
    "target_texts = []\n",
    "input_chars = set()\n",
    "target_chars = set()\n",
    "\n",
    "\n",
    "    \n",
    "for i in range(min(num_samples, len(data_set_clean) - 1)):\n",
    "    input_text = data_set_clean.loc[i,'cleaned sentence']\n",
    "    target_text = data_set_clean.loc[i,'cleaned highlight']\n",
    "    target_text = '\\t' + target_text + '\\n'\n",
    "    input_texts.append(input_text)\n",
    "    target_texts.append(target_text)\n",
    "    \n",
    "    for char in input_text:\n",
    "        if char not in input_chars:\n",
    "            input_chars.add(char)\n",
    "    for char in target_text:\n",
    "        if char not in target_chars:\n",
    "            target_chars.add(char)\n",
    "\n",
    "input_chars = sorted(list(input_chars))\n",
    "target_chars = sorted(list(target_chars))\n",
    "num_encoder_tokens = len(input_chars)\n",
    "num_decoder_tokens = len(target_chars)\n",
    "max_encoder_seq_length = max([len(txt) for txt in input_texts])\n",
    "max_decoder_seq_length = max([len(txt) for txt in target_texts])\n",
    "\n",
    "#Print size\n",
    "print('Number of samples:', len(input_texts))\n",
    "print('Number of unique input tokens:', num_encoder_tokens)\n",
    "print('Number of unique output tokens:', num_decoder_tokens)\n",
    "print('Max sequence length for inputs:', max_encoder_seq_length)\n",
    "print('Max sequence length for outputs:', max_decoder_seq_length)"
   ]
  },
  {
   "cell_type": "code",
   "execution_count": null,
   "metadata": {},
   "outputs": [],
   "source": [
    "#Define data for encoder and decoder\n",
    "input_token_id = dict([(char, i) for i, char in enumerate(input_chars)])\n",
    "target_token_id = dict([(char, i) for i, char in enumerate(target_chars)])\n",
    "\n",
    "encoder_in_data = np.zeros((len(input_texts), max_encoder_seq_length, num_encoder_tokens), dtype='float32')\n",
    "\n",
    "decoder_in_data = np.zeros((len(input_texts), max_decoder_seq_length, num_decoder_tokens), dtype='float32')\n",
    "\n",
    "decoder_target_data = np.zeros((len(input_texts), max_decoder_seq_length, num_decoder_tokens), dtype='float32')\n",
    "\n",
    "for i, (input_text, target_text) in enumerate(zip(input_texts, target_texts)):\n",
    "    for t, char in enumerate(input_text):\n",
    "        encoder_in_data[i, t, input_token_id[char]] = 1.\n",
    "    for t, char in enumerate(target_text):\n",
    "        decoder_in_data[i, t, target_token_id[char]] = 1.\n",
    "        if t > 0:\n",
    "            decoder_target_data[i, t - 1, target_token_id[char]] = 1."
   ]
  },
  {
   "cell_type": "code",
   "execution_count": null,
   "metadata": {},
   "outputs": [],
   "source": [
    "#Define and process the input sequence\n",
    "encoder_inputs = Input(shape=(None, num_encoder_tokens))\n",
    "encoder = LSTM(latent_dim, return_state=True)\n",
    "encoder_outputs, state_h, state_c = encoder(encoder_inputs)\n",
    "#We discard `encoder_outputs` and only keep the states.\n",
    "encoder_states = [state_h, state_c]\n",
    "\n",
    "#Using `encoder_states` set up the decoder as initial state.\n",
    "decoder_inputs = Input(shape=(None, num_decoder_tokens))\n",
    "decoder_lstm = LSTM(latent_dim, return_sequences=True, return_state=True)\n",
    "decoder_outputs, _, _ = decoder_lstm(decoder_inputs, initial_state=encoder_states)\n",
    "decoder_dense = Dense(num_decoder_tokens, activation='softmax')\n",
    "decoder_outputs = decoder_dense(decoder_outputs)"
   ]
  },
  {
   "cell_type": "code",
   "execution_count": null,
   "metadata": {},
   "outputs": [],
   "source": [
    "#Final model\n",
    "model = Model([encoder_inputs, decoder_inputs], decoder_outputs)"
   ]
  },
  {
   "cell_type": "code",
   "execution_count": null,
   "metadata": {},
   "outputs": [],
   "source": [
    "#Model Summary\n",
    "model.summary()"
   ]
  },
  {
   "cell_type": "code",
   "execution_count": null,
   "metadata": {},
   "outputs": [],
   "source": [
    "#Model data Shape\n",
    "print(\"encoder_in_data shape:\",encoder_in_data.shape)\n",
    "print(\"decoder_in_data shape:\",decoder_in_data.shape)\n",
    "print(\"decoder_target_data shape:\",decoder_target_data.shape)"
   ]
  },
  {
   "cell_type": "code",
   "execution_count": null,
   "metadata": {},
   "outputs": [],
   "source": [
    "#Compiling and training the model\n",
    "model.compile(optimizer=Adam(lr=0.01, beta_1=0.9, beta_2=0.999, decay=0.001), loss='categorical_crossentropy')\n",
    "\n",
    "model.fit([encoder_in_data, decoder_in_data], decoder_target_data, batch_size = batch_size, epochs=50, validation_split=0.2)"
   ]
  },
  {
   "cell_type": "code",
   "execution_count": null,
   "metadata": {},
   "outputs": [],
   "source": [
    "#Define sampling models\n",
    "encoder_model = Model(encoder_inputs, encoder_states)\n",
    "decoder_state_input_h = Input(shape=(latent_dim,))\n",
    "decoder_state_input_c = Input(shape=(latent_dim,))\n",
    "decoder_states_inputs = [decoder_state_input_h, decoder_state_input_c]\n",
    "decoder_outputs, state_h, state_c = decoder_lstm(decoder_inputs, initial_state=decoder_states_inputs)\n",
    "decoder_states = [state_h, state_c]\n",
    "decoder_outputs = decoder_dense(decoder_outputs)\n",
    "decoder_model = Model([decoder_inputs] + decoder_states_inputs, [decoder_outputs] + decoder_states)"
   ]
  },
  {
   "cell_type": "code",
   "execution_count": null,
   "metadata": {},
   "outputs": [],
   "source": [
    "reverse_input_char_index = dict((i, char) for char, i in input_token_id.items())\n",
    "reverse_target_char_index = dict((i, char) for char, i in target_token_id.items())\n",
    "\n",
    "#Define Decode Sequence\n",
    "def decode_sequence(input_seq):\n",
    "    #Encode the input as state vectors.\n",
    "    states_value = encoder_model.predict(input_seq)\n",
    "\n",
    "    #Generate empty target sequence of length 1.\n",
    "    target_seq = np.zeros((1, 1, num_decoder_tokens))\n",
    "    #Get the first character of target sequence with the start character.\n",
    "    target_seq[0, 0, target_token_id['\\t']] = 1.\n",
    "\n",
    "    #Sampling loop for a batch of sequences\n",
    "    #(to simplify, here we assume a batch of size 1).\n",
    "    stop_condition = False\n",
    "    decoded_sentence = ''\n",
    "    while not stop_condition:\n",
    "        output_tokens, h, c = decoder_model.predict([target_seq] + states_value)\n",
    "\n",
    "        #Sample a token\n",
    "        sampled_token_index = np.argmax(output_tokens[0, -1, :])\n",
    "        sampled_char = reverse_target_char_index[sampled_token_index]\n",
    "        decoded_sentence += sampled_char\n",
    "\n",
    "        #Exit condition: either hit max length\n",
    "        #or find stop character.\n",
    "        if (sampled_char == '\\n' or\n",
    "           len(decoded_sentence) > max_decoder_seq_length):\n",
    "            stop_condition = True\n",
    "\n",
    "        #Update the target sequence (of length 1).\n",
    "        target_seq = np.zeros((1, 1, num_decoder_tokens))\n",
    "        target_seq[0, 0, sampled_token_index] = 1.\n",
    "\n",
    "        #Update states\n",
    "        states_value = [h, c]\n",
    "\n",
    "    return decoded_sentence"
   ]
  },
  {
   "cell_type": "code",
   "execution_count": null,
   "metadata": {},
   "outputs": [],
   "source": [
    "for seq_index in range(20):\n",
    "    input_seq = encoder_in_data[seq_index: seq_index + 1]\n",
    "    decoded_sentence = decode_sequence(input_seq)\n",
    "    print('-')\n",
    "    print('Input sentence:', input_texts[seq_index])\n",
    "    print('Decoded sentence:', decoded_sentence)"
   ]
  },
  {
   "cell_type": "code",
   "execution_count": null,
   "metadata": {},
   "outputs": [],
   "source": []
  }
 ],
 "metadata": {
  "kernelspec": {
   "display_name": "Python 3",
   "language": "python",
   "name": "python3"
  },
  "language_info": {
   "codemirror_mode": {
    "name": "ipython",
    "version": 3
   },
   "file_extension": ".py",
   "mimetype": "text/x-python",
   "name": "python",
   "nbconvert_exporter": "python",
   "pygments_lexer": "ipython3",
   "version": "3.7.9"
  }
 },
 "nbformat": 4,
 "nbformat_minor": 4
}
